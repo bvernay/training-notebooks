{
 "cells": [
  {
   "cell_type": "markdown",
   "metadata": {},
   "source": [
    "# Omero File Browser"
   ]
  },
  {
   "cell_type": "markdown",
   "metadata": {},
   "source": [
    "Browse and download files from an OMERO-image database"
   ]
  },
  {
   "cell_type": "markdown",
   "metadata": {},
   "source": [
    "## Connecting to OMERO"
   ]
  },
  {
   "cell_type": "code",
   "execution_count": 1,
   "metadata": {
    "jupyter": {
     "source_hidden": true
    }
   },
   "outputs": [
    {
     "data": {
      "application/vnd.jupyter.widget-view+json": {
       "model_id": "f550819add814d7dbb16a93594ff7200",
       "version_major": 2,
       "version_minor": 0
      },
      "text/plain": [
       "VBox(children=(HBox(children=(Dropdown(description='host:', options=('workshop.openmicroscopy.org', 'omero.mri…"
      ]
     },
     "metadata": {},
     "output_type": "display_data"
    }
   ],
   "source": [
    "import ipywidgets as widgets\n",
    "hosts = [\"workshop.openmicroscopy.org\", \"omero.mri.cnrs.fr\"]\n",
    "port = 4064\n",
    "CD_host = widgets.Dropdown(\n",
    "       options=hosts,\n",
    "       value=hosts[0],\n",
    "       description='host:')\n",
    "CD_port = widgets.IntText(\n",
    "    value=port,\n",
    "    description='port:',\n",
    ") \n",
    "CD_top = widgets.HBox([CD_host, CD_port])\n",
    "CD_user = widgets.Text(\n",
    "    value = 'user',\n",
    "    description = 'user:'\n",
    ")\n",
    "CD_password = widgets.Password(\n",
    "    value = '',\n",
    "    description = 'password:'\n",
    ")\n",
    "CD = widgets.VBox([CD_top, CD_user, CD_password])\n",
    "display(CD)"
   ]
  },
  {
   "cell_type": "code",
   "execution_count": 105,
   "metadata": {
    "jupyter": {
     "source_hidden": true
    }
   },
   "outputs": [
    {
     "data": {
      "text/plain": [
       "True"
      ]
     },
     "execution_count": 105,
     "metadata": {},
     "output_type": "execute_result"
    }
   ],
   "source": [
    "from omero.gateway import BlitzGateway\n",
    "conn = BlitzGateway(CD_user.value,\n",
    "                    CD_password.value,\n",
    "                    host=CD_host.value, port=CD_port.value)\n",
    "conn.connect()"
   ]
  },
  {
   "cell_type": "code",
   "execution_count": 131,
   "metadata": {
    "jupyter": {
     "source_hidden": true
    }
   },
   "outputs": [
    {
     "data": {
      "application/vnd.jupyter.widget-view+json": {
       "model_id": "06a43f1ab54d4d2f93043a5d2304a807",
       "version_major": 2,
       "version_minor": 0
      },
      "text/plain": [
       "HBox(children=(Dropdown(description='projects:', options=(('3d-clustering-of-nuclei', 4921), ('dimitris-Liakop…"
      ]
     },
     "metadata": {},
     "output_type": "display_data"
    }
   ],
   "source": [
    "userID = conn.getUser().getId()\n",
    "groupID = conn.getEventContext().groupId\n",
    "projects = list(conn.getObjects(\"Project\",\n",
    "                               opts={'owner': userID,\n",
    "                                     'group': groupID,\n",
    "                                     'order_by': 'lower(obj.name)'}))\n",
    "projectNames = [project.getName() for project in projects]\n",
    "projectIDs = [project.getId() for project in projects]\n",
    "projectTupels = list(zip(projectNames, projectIDs))\n",
    "datasetNames = list([dataset.getName() for dataset in projects[0].listChildren()])\n",
    "datasetIDs = list([dataset.getId() for dataset in projects[0].listChildren()])\n",
    "datasetTupels = list(zip(datasetNames, datasetIDs))\n",
    "BD_project = widgets.Dropdown(\n",
    "       continuous_update=True,\n",
    "       options=projectTupels,\n",
    "       value=projectTupels[0][1],\n",
    "       description='project:')\n",
    "BD_dataset = widgets.Dropdown(\n",
    "       options=datasetTupels,\n",
    "       value=datasetTupels[0][1],\n",
    "       description='dataset:')\n",
    "out = widgets.Output()\n",
    "BD_top = widgets.HBox([BD_project, BD_dataset, out])\n",
    "def on_value_change(change):\n",
    "    datasetNames = list([dataset.getName() for dataset in projects[change['new']].listChildren()])\n",
    "    datasetIDs = list([dataset.getId() for dataset in projects[change['new']].listChildren()])\n",
    "    datasetTupels = list(zip(datasetNames, datasetIDs))\n",
    "    BD_dataset.options = datasetTupels\n",
    "    BD_dataset.value = datasetTupels[0][1]\n",
    "BD_project.observe(on_value_change, names=\"index\")\n",
    "display(BD_top)"
   ]
  },
  {
   "cell_type": "code",
   "execution_count": null,
   "metadata": {},
   "outputs": [],
   "source": []
  }
 ],
 "metadata": {
  "kernelspec": {
   "display_name": "OMERO Python 3",
   "language": "python",
   "name": "python3"
  },
  "language_info": {
   "codemirror_mode": {
    "name": "ipython",
    "version": 3
   },
   "file_extension": ".py",
   "mimetype": "text/x-python",
   "name": "python",
   "nbconvert_exporter": "python",
   "pygments_lexer": "ipython3",
   "version": "3.6.7"
  }
 },
 "nbformat": 4,
 "nbformat_minor": 4
}
