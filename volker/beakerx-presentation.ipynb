{
 "cells": [
  {
   "cell_type": "markdown",
   "metadata": {
    "slideshow": {
     "slide_type": "slide"
    }
   },
   "source": [
    "# <center> BeakerX </center>"
   ]
  },
  {
   "cell_type": "markdown",
   "metadata": {
    "slideshow": {
     "slide_type": "fragment"
    }
   },
   "source": [
    "## <center> Volker Bäcker </center>"
   ]
  },
  {
   "cell_type": "markdown",
   "metadata": {
    "slideshow": {
     "slide_type": "fragment"
    }
   },
   "source": [
    "### <center> 27.01.2020 </center>"
   ]
  },
  {
   "cell_type": "markdown",
   "metadata": {
    "slideshow": {
     "slide_type": "slide"
    }
   },
   "source": [
    "# <center> BeakerX features </center>"
   ]
  },
  {
   "cell_type": "markdown",
   "metadata": {
    "slideshow": {
     "slide_type": "fragment"
    }
   },
   "source": [
    "1. polyglot\n",
    "1. EasyForm widgets\n",
    "1. interactive plots\n",
    "1. interactive tables\n",
    "1. spark support\n",
    "1. instant publication\n",
    "1. java support"
   ]
  },
  {
   "cell_type": "markdown",
   "metadata": {
    "slideshow": {
     "slide_type": "slide"
    }
   },
   "source": [
    "# <center> BeakerX history </center>"
   ]
  },
  {
   "cell_type": "markdown",
   "metadata": {
    "slideshow": {
     "slide_type": "fragment"
    }
   },
   "source": [
    "* beaker-notebook\n",
    "> * independant notebook implementation\n",
    "\n",
    "* beakerX\n",
    "> * re-implementation as a jupyter-notebook extension"
   ]
  },
  {
   "cell_type": "markdown",
   "metadata": {
    "slideshow": {
     "slide_type": "slide"
    }
   },
   "source": [
    "# <center> Polyglot - introduction </center>"
   ]
  },
  {
   "cell_type": "markdown",
   "metadata": {
    "slideshow": {
     "slide_type": "fragment"
    }
   },
   "source": [
    "* different cells in the same notebook can execute different languages\n",
    "* data can be exchanged between languages"
   ]
  },
  {
   "cell_type": "code",
   "execution_count": null,
   "metadata": {
    "slideshow": {
     "slide_type": "fragment"
    }
   },
   "outputs": [],
   "source": [
    "beakerx.myValue = 6"
   ]
  },
  {
   "cell_type": "code",
   "execution_count": null,
   "metadata": {
    "slideshow": {
     "slide_type": "fragment"
    }
   },
   "outputs": [],
   "source": [
    "%%java\n",
    "Integer a = (Integer)NamespaceClient.getBeakerX().get(\"myValue\");\n",
    "NamespaceClient.getBeakerX().set(\"myValue\", a+1);"
   ]
  },
  {
   "cell_type": "code",
   "execution_count": null,
   "metadata": {
    "slideshow": {
     "slide_type": "fragment"
    }
   },
   "outputs": [],
   "source": [
    "%%kotlin\n",
    "beakerx[\"myValue\"]"
   ]
  },
  {
   "cell_type": "markdown",
   "metadata": {
    "slideshow": {
     "slide_type": "slide"
    }
   },
   "source": [
    "# <center> Polyglot example </center>"
   ]
  },
  {
   "cell_type": "markdown",
   "metadata": {
    "slideshow": {
     "slide_type": "fragment"
    }
   },
   "source": [
    "* use python to download an image from omero\n",
    "* use groovy to run an ImageJ-macro on it"
   ]
  },
  {
   "cell_type": "code",
   "execution_count": 1,
   "metadata": {
    "jupyter": {
     "source_hidden": true
    },
    "slideshow": {
     "slide_type": "subslide"
    }
   },
   "outputs": [
    {
     "data": {
      "application/vnd.jupyter.widget-view+json": {
       "model_id": "8f8388b8d5a44b40a398968ecf28d994",
       "version_major": 2,
       "version_minor": 0
      },
      "text/plain": [
       "VBox(children=(HBox(children=(Dropdown(description='host:', options=('workshop.openmicroscopy.org', 'omero.mri…"
      ]
     },
     "metadata": {},
     "output_type": "display_data"
    }
   ],
   "source": [
    "%%python\n",
    "import ipywidgets as widgets\n",
    "hosts = [\"workshop.openmicroscopy.org\", \"omero.mri.cnrs.fr\"]\n",
    "port = 4064\n",
    "CD_host = widgets.Dropdown(\n",
    "       options=hosts,\n",
    "       value=hosts[0],\n",
    "       description='host:')\n",
    "CD_port = widgets.IntText(\n",
    "    value=port,\n",
    "    description='port:',\n",
    ") \n",
    "CD_top = widgets.HBox([CD_host, CD_port])\n",
    "CD_user = widgets.Text(\n",
    "    value = 'user',\n",
    "    description = 'user:'\n",
    ")\n",
    "CD_password = widgets.Password(\n",
    "    value = '',\n",
    "    description = 'password:'\n",
    ")\n",
    "CD = widgets.VBox([CD_top, CD_user, CD_password])\n",
    "display(CD)"
   ]
  },
  {
   "cell_type": "code",
   "execution_count": 2,
   "metadata": {
    "jupyter": {
     "source_hidden": true
    },
    "slideshow": {
     "slide_type": "subslide"
    }
   },
   "outputs": [
    {
     "data": {
      "text/plain": [
       "True"
      ]
     },
     "execution_count": 2,
     "metadata": {},
     "output_type": "execute_result"
    }
   ],
   "source": [
    "%%python\n",
    "from omero.gateway import BlitzGateway\n",
    "conn = BlitzGateway(CD_user.value,\n",
    "                    CD_password.value,\n",
    "                    host=CD_host.value, port=CD_port.value)\n",
    "conn.connect()"
   ]
  },
  {
   "cell_type": "code",
   "execution_count": 3,
   "metadata": {
    "jupyter": {
     "source_hidden": true
    },
    "slideshow": {
     "slide_type": "subslide"
    }
   },
   "outputs": [
    {
     "data": {
      "application/vnd.jupyter.widget-view+json": {
       "model_id": "23a1eda02d524c2eab9d94fc2643088e",
       "version_major": 2,
       "version_minor": 0
      },
      "text/plain": [
       "VBox(children=(HBox(children=(Dropdown(description='project:', index=1, options=(('3d-clustering-of-nuclei', 4…"
      ]
     },
     "metadata": {},
     "output_type": "display_data"
    },
    {
     "data": {
      "image/jpeg": "[encoded data removed]",
      "text/plain": [
       "<IPython.core.display.Image object>"
      ]
     },
     "metadata": {
      "image/jpeg": {
       "height": 200,
       "width": 200
      }
     },
     "output_type": "display_data"
    }
   ],
   "source": [
    "%%python\n",
    "from IPython.display import Image\n",
    "from PIL import Image as pImage\n",
    "from io import BytesIO, StringIO\n",
    "\n",
    "userID = conn.getUser().getId()\n",
    "groupID = conn.getEventContext().groupId\n",
    "projects = list(conn.getObjects(\"Project\",\n",
    "                               opts={'owner': userID,\n",
    "                                     'group': groupID,\n",
    "                                     'order_by': 'lower(obj.name)'}))\n",
    "\n",
    "projectNames = [project.getName() for project in projects]\n",
    "projectIDs = [project.getId() for project in projects]\n",
    "projectTupels = list(zip(projectNames, projectIDs))\n",
    "datasetNames = list([dataset.getName() for dataset in projects[0].listChildren()])\n",
    "datasetIDs = list([dataset.getId() for dataset in projects[0].listChildren()])\n",
    "datasetTupels = list(zip(datasetNames, datasetIDs))\n",
    "datasets = list(projects[0].listChildren())\n",
    "images = list(datasets[0].listChildren())\n",
    "imageNames = [image.getName() for image in images]\n",
    "imageIDs = [image.getId() for image in images]\n",
    "imageTupels = list(zip(imageNames, imageIDs))\n",
    "BD_project = widgets.Dropdown(\n",
    "       continuous_update=True,\n",
    "       options=projectTupels,\n",
    "       value=projectTupels[0][1],\n",
    "       description='project:')\n",
    "BD_dataset = widgets.Dropdown(\n",
    "       options=datasetTupels,\n",
    "       value=datasetTupels[0][1],\n",
    "       description='dataset:')\n",
    "BD_image = widgets.Select(\n",
    "       options=imageTupels,\n",
    "       value=imageTupels[0][1],\n",
    "       description='image:') \n",
    "img_data = images[0].getThumbnail()\n",
    "thumb = Image(img_data, width=200, height=200)\n",
    "#BD_thumbnail = widgets.Image(\n",
    "#    value=img_data,\n",
    "#    format='jpg',\n",
    "#    width=150,\n",
    "#    height=150,\n",
    "#)\n",
    "BD_out = widgets.Output(layout={'border': '1px solid black'})\n",
    "BD_top = widgets.HBox([BD_project, BD_dataset])\n",
    "BD_bottom = widgets.HBox([BD_image, BD_out])\n",
    "BD_all = widgets.VBox([BD_top, BD_bottom])\n",
    "def on_project_change(change):\n",
    "    global datasets\n",
    "    datasetNames = list([dataset.getName() for dataset in projects[change['new']].listChildren()])\n",
    "    datasetIDs = list([dataset.getId() for dataset in projects[change['new']].listChildren()])\n",
    "    datasetTupels = list(zip(datasetNames, datasetIDs))\n",
    "    datasets = list(projects[change['new']].listChildren())\n",
    "    BD_dataset.options = datasetTupels\n",
    "    BD_dataset.value = datasetTupels[0][1]\n",
    "def on_dataset_change(change):\n",
    "    global datasets, images\n",
    "    imageNames = list([image.getName() for image in datasets[change['new']].listChildren()])\n",
    "    imageIDs = list([image.getId() for image in datasets[change['new']].listChildren()])\n",
    "    imageTupels = list(zip(imageNames, imageIDs))\n",
    "    images = list(datasets[change['new']].listChildren())\n",
    "    BD_image.options = imageTupels\n",
    "    BD_image.value = imageTupels[0][1]\n",
    "def on_image_change(change):\n",
    "    global images, thumb, img_data\n",
    "    image = images[change['new']]\n",
    "    img_data = image.getThumbnail()\n",
    "    thumb = Image(img_data, width=200, height=200)\n",
    "    BD_out.layout.object_fit = 'contain'\n",
    "    BD_out.layout.justify_content = 'center'\n",
    "    BD_out.clear_output()\n",
    "    with BD_out:\n",
    "        display(BD_all)\n",
    "        display(thumb)\n",
    "\n",
    "BD_project.observe(on_project_change, names=\"index\")\n",
    "BD_dataset.observe(on_dataset_change, names=\"index\")\n",
    "BD_image.observe(on_image_change, names=\"index\")\n",
    "display(BD_all)\n",
    "with BD_out:\n",
    "    display(thumb)"
   ]
  },
  {
   "cell_type": "code",
   "execution_count": null,
   "metadata": {},
   "outputs": [],
   "source": [
    "%%python\n",
    "from PIL import Image as pImage\n",
    "from IPython.display import Image\n",
    "from io import BytesIO\n",
    "from base64 import b64encode\n",
    "image = conn.getObject(\"Image\", 717630)\n",
    "img_data = image.getThumbnail()\n",
    "pil_im = pImage.open(BytesIO(img_data))\n",
    "b = BytesIO()  \n",
    "pil_im.save(b, format='png')\n",
    "thumb = Image(img_data, width=200, height=200)\n",
    "\n",
    "display(thumb)\n",
    "thumb.reload()\n",
    "widgets.Image(\n",
    "    value=thumb,\n",
    "    format='jpg',\n",
    "    width=150,\n",
    "    height=150,\n",
    ")"
   ]
  },
  {
   "cell_type": "code",
   "execution_count": null,
   "metadata": {},
   "outputs": [],
   "source": []
  }
 ],
 "metadata": {
  "celltoolbar": "Slideshow",
  "kernelspec": {
   "display_name": "Groovy",
   "language": "groovy",
   "name": "groovy"
  },
  "language_info": {
   "codemirror_mode": "groovy",
   "file_extension": ".groovy",
   "mimetype": "",
   "name": "Groovy",
   "nbconverter_exporter": "",
   "version": "2.5.6"
  },
  "toc": {
   "base_numbering": 1,
   "nav_menu": {},
   "number_sections": false,
   "sideBar": false,
   "skip_h1_title": false,
   "title_cell": "Table of Contents",
   "title_sidebar": "Contents",
   "toc_cell": false,
   "toc_position": {},
   "toc_section_display": false,
   "toc_window_display": false
  }
 },
 "nbformat": 4,
 "nbformat_minor": 4
}
