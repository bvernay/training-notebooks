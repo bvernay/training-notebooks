{
 "cells": [
  {
   "cell_type": "markdown",
   "metadata": {
    "slideshow": {
     "slide_type": "slide"
    }
   },
   "source": [
    "# <center> BeakerX </center>"
   ]
  },
  {
   "cell_type": "markdown",
   "metadata": {
    "slideshow": {
     "slide_type": "fragment"
    }
   },
   "source": [
    "## <center> Volker Bäcker </center>"
   ]
  },
  {
   "cell_type": "markdown",
   "metadata": {
    "slideshow": {
     "slide_type": "fragment"
    }
   },
   "source": [
    "### <center> 27.01.2020 </center>"
   ]
  },
  {
   "cell_type": "markdown",
   "metadata": {
    "slideshow": {
     "slide_type": "slide"
    }
   },
   "source": [
    "# <center> BeakerX features </center>"
   ]
  },
  {
   "cell_type": "markdown",
   "metadata": {
    "slideshow": {
     "slide_type": "fragment"
    }
   },
   "source": [
    "1. polyglot\n",
    "1. EasyForm widgets\n",
    "1. interactive plots\n",
    "1. interactive tables\n",
    "1. spark support\n",
    "1. instant publication\n",
    "1. java support"
   ]
  },
  {
   "cell_type": "markdown",
   "metadata": {
    "slideshow": {
     "slide_type": "slide"
    }
   },
   "source": [
    "# BeakerX history"
   ]
  },
  {
   "cell_type": "markdown",
   "metadata": {
    "slideshow": {
     "slide_type": "fragment"
    }
   },
   "source": [
    "* beaker-notebook\n",
    "> * independant notebook implementation\n",
    "\n",
    "* beakerX\n",
    "> * re-implementation as a jupyter-notebook extension"
   ]
  },
  {
   "cell_type": "markdown",
   "metadata": {
    "slideshow": {
     "slide_type": "slide"
    }
   },
   "source": [
    "# Polyglot - introduction"
   ]
  },
  {
   "cell_type": "markdown",
   "metadata": {},
   "source": [
    "* different cells in the same notebook can execute different languages\n",
    "* data can be exchanged between languages"
   ]
  },
  {
   "cell_type": "code",
   "execution_count": 7,
   "metadata": {},
   "outputs": [
    {
     "data": {
      "text/plain": [
       "6"
      ]
     },
     "execution_count": 7,
     "metadata": {},
     "output_type": "execute_result"
    }
   ],
   "source": [
    "beakerx.myValue = 6"
   ]
  },
  {
   "cell_type": "code",
   "execution_count": 14,
   "metadata": {},
   "outputs": [
    {
     "data": {
      "text/plain": [
       "null"
      ]
     },
     "execution_count": 5,
     "metadata": {},
     "output_type": "execute_result"
    }
   ],
   "source": [
    "%%java\n",
    "Integer a = (Integer)NamespaceClient.getBeakerX().get(\"myValue\");\n",
    "NamespaceClient.getBeakerX().set(\"myValue\", a+1);"
   ]
  },
  {
   "cell_type": "code",
   "execution_count": 15,
   "metadata": {},
   "outputs": [
    {
     "data": {
      "text/plain": [
       "7"
      ]
     },
     "execution_count": 7,
     "metadata": {},
     "output_type": "execute_result"
    }
   ],
   "source": [
    "%%kotlin\n",
    "beakerx[\"myValue\"]"
   ]
  },
  {
   "cell_type": "markdown",
   "metadata": {
    "slideshow": {
     "slide_type": "slide"
    }
   },
   "source": [
    "# Polyglot example"
   ]
  },
  {
   "cell_type": "markdown",
   "metadata": {
    "slideshow": {
     "slide_type": "slide"
    }
   },
   "source": [
    "* use python to download an image from omero\n",
    "* use groovy to run an ImageJ-macro on it"
   ]
  },
  {
   "cell_type": "code",
   "execution_count": 22,
   "metadata": {
    "jupyter": {
     "source_hidden": true
    }
   },
   "outputs": [
    {
     "data": {
      "application/vnd.jupyter.widget-view+json": {
       "model_id": "4aa621352a5d4c799355e663755d11fb",
       "version_major": 2,
       "version_minor": 0
      },
      "text/plain": [
       "VBox(children=(HBox(children=(Dropdown(description='host:', options=('workshop.openmicroscopy.org', 'omero.mri…"
      ]
     },
     "metadata": {},
     "output_type": "display_data"
    }
   ],
   "source": [
    "%%python\n",
    "import ipywidgets as widgets\n",
    "hosts = [\"workshop.openmicroscopy.org\", \"omero.mri.cnrs.fr\"]\n",
    "port = 4064\n",
    "CD_host = widgets.Dropdown(\n",
    "       options=hosts,\n",
    "       value=hosts[0],\n",
    "       description='host:')\n",
    "CD_port = widgets.IntText(\n",
    "    value=port,\n",
    "    description='port:',\n",
    ") \n",
    "CD_top = widgets.HBox([CD_host, CD_port])\n",
    "CD_user = widgets.Text(\n",
    "    value = 'user',\n",
    "    description = 'user:'\n",
    ")\n",
    "CD_password = widgets.Password(\n",
    "    value = '',\n",
    "    description = 'password:'\n",
    ")\n",
    "CD = widgets.VBox([CD_top, CD_user, CD_password])\n",
    "display(CD)"
   ]
  },
  {
   "cell_type": "code",
   "execution_count": 24,
   "metadata": {
    "jupyter": {
     "source_hidden": true
    }
   },
   "outputs": [
    {
     "data": {
      "text/plain": [
       "True"
      ]
     },
     "execution_count": 8,
     "metadata": {},
     "output_type": "execute_result"
    }
   ],
   "source": [
    "%%python\n",
    "from omero.gateway import BlitzGateway\n",
    "conn = BlitzGateway(CD_user.value,\n",
    "                    CD_password.value,\n",
    "                    host=CD_host.value, port=CD_port.value)\n",
    "conn.connect()"
   ]
  },
  {
   "cell_type": "code",
   "execution_count": 26,
   "metadata": {
    "jupyter": {
     "source_hidden": true
    }
   },
   "outputs": [
    {
     "data": {
      "application/vnd.jupyter.widget-view+json": {
       "model_id": "1c659831ef2348c29b690c2d87d554c2",
       "version_major": 2,
       "version_minor": 0
      },
      "text/plain": [
       "HBox(children=(Dropdown(description='project:', options=(('3d-clustering-of-nuclei', 4921), ('dimitris-Liakopo…"
      ]
     },
     "metadata": {},
     "output_type": "display_data"
    }
   ],
   "source": [
    "%%python\n",
    "userID = conn.getUser().getId()\n",
    "groupID = conn.getEventContext().groupId\n",
    "projects = list(conn.getObjects(\"Project\",\n",
    "                               opts={'owner': userID,\n",
    "                                     'group': groupID,\n",
    "                                     'order_by': 'lower(obj.name)'}))\n",
    "projectNames = [project.getName() for project in projects]\n",
    "projectIDs = [project.getId() for project in projects]\n",
    "projectTupels = list(zip(projectNames, projectIDs))\n",
    "datasetNames = list([dataset.getName() for dataset in projects[0].listChildren()])\n",
    "datasetIDs = list([dataset.getId() for dataset in projects[0].listChildren()])\n",
    "datasetTupels = list(zip(datasetNames, datasetIDs))\n",
    "BD_project = widgets.Dropdown(\n",
    "       continuous_update=True,\n",
    "       options=projectTupels,\n",
    "       value=projectTupels[0][1],\n",
    "       description='project:')\n",
    "BD_dataset = widgets.Dropdown(\n",
    "       options=datasetTupels,\n",
    "       value=datasetTupels[0][1],\n",
    "       description='dataset:')\n",
    "out = widgets.Output()\n",
    "BD_top = widgets.HBox([BD_project, BD_dataset, out])\n",
    "def on_value_change(change):\n",
    "    datasetNames = list([dataset.getName() for dataset in projects[change['new']].listChildren()])\n",
    "    datasetIDs = list([dataset.getId() for dataset in projects[change['new']].listChildren()])\n",
    "    datasetTupels = list(zip(datasetNames, datasetIDs))\n",
    "    BD_dataset.options = datasetTupels\n",
    "    BD_dataset.value = datasetTupels[0][1]\n",
    "BD_project.observe(on_value_change, names=\"index\")\n",
    "display(BD_top)"
   ]
  },
  {
   "cell_type": "code",
   "execution_count": null,
   "metadata": {},
   "outputs": [],
   "source": []
  }
 ],
 "metadata": {
  "celltoolbar": "Slideshow",
  "kernelspec": {
   "display_name": "Groovy",
   "language": "groovy",
   "name": "groovy"
  },
  "language_info": {
   "codemirror_mode": "groovy",
   "file_extension": ".groovy",
   "mimetype": "",
   "name": "Groovy",
   "nbconverter_exporter": "",
   "version": "2.5.6"
  },
  "toc": {
   "base_numbering": 1,
   "nav_menu": {},
   "number_sections": false,
   "sideBar": false,
   "skip_h1_title": false,
   "title_cell": "Table of Contents",
   "title_sidebar": "Contents",
   "toc_cell": false,
   "toc_position": {},
   "toc_section_display": false,
   "toc_window_display": false
  }
 },
 "nbformat": 4,
 "nbformat_minor": 4
}
