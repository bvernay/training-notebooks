{
 "cells": [
  {
   "cell_type": "markdown",
   "metadata": {
    "slideshow": {
     "slide_type": "slide"
    }
   },
   "source": [
    "# <center> BeakerX </center>"
   ]
  },
  {
   "cell_type": "markdown",
   "metadata": {
    "slideshow": {
     "slide_type": "fragment"
    }
   },
   "source": [
    "## <center> Volker Bäcker </center>"
   ]
  },
  {
   "cell_type": "markdown",
   "metadata": {
    "slideshow": {
     "slide_type": "fragment"
    }
   },
   "source": [
    "### <center> 27.01.2020 </center>"
   ]
  },
  {
   "cell_type": "markdown",
   "metadata": {
    "slideshow": {
     "slide_type": "slide"
    }
   },
   "source": [
    "# <center> BeakerX features </center>"
   ]
  },
  {
   "cell_type": "markdown",
   "metadata": {
    "slideshow": {
     "slide_type": "fragment"
    }
   },
   "source": [
    "1. polyglot\n",
    "1. EasyForm widgets\n",
    "1. interactive plots\n",
    "1. interactive tables\n",
    "1. spark support\n",
    "1. instant publication\n",
    "1. java support"
   ]
  },
  {
   "cell_type": "markdown",
   "metadata": {
    "slideshow": {
     "slide_type": "slide"
    }
   },
   "source": [
    "# <center> BeakerX history </center>"
   ]
  },
  {
   "cell_type": "markdown",
   "metadata": {
    "slideshow": {
     "slide_type": "fragment"
    }
   },
   "source": [
    "* beaker-notebook\n",
    "> * independant notebook implementation\n",
    "\n",
    "* beakerX\n",
    "> * re-implementation as a jupyter-notebook extension"
   ]
  },
  {
   "cell_type": "markdown",
   "metadata": {
    "slideshow": {
     "slide_type": "slide"
    }
   },
   "source": [
    "# <center> Polyglot - introduction </center>"
   ]
  },
  {
   "cell_type": "markdown",
   "metadata": {
    "slideshow": {
     "slide_type": "fragment"
    }
   },
   "source": [
    "* different cells in the same notebook can execute different languages\n",
    "* data can be exchanged between languages"
   ]
  },
  {
   "cell_type": "code",
   "execution_count": null,
   "metadata": {
    "slideshow": {
     "slide_type": "fragment"
    }
   },
   "outputs": [],
   "source": [
    "beakerx.myValue = 6"
   ]
  },
  {
   "cell_type": "code",
   "execution_count": null,
   "metadata": {
    "slideshow": {
     "slide_type": "fragment"
    }
   },
   "outputs": [],
   "source": [
    "%%java\n",
    "Integer a = (Integer)NamespaceClient.getBeakerX().get(\"myValue\");\n",
    "System.out.println(a);\n",
    "NamespaceClient.getBeakerX().set(\"myValue\", a+1);"
   ]
  },
  {
   "cell_type": "code",
   "execution_count": null,
   "metadata": {
    "slideshow": {
     "slide_type": "fragment"
    }
   },
   "outputs": [],
   "source": [
    "%%kotlin\n",
    "beakerx[\"myValue\"]"
   ]
  },
  {
   "cell_type": "markdown",
   "metadata": {
    "slideshow": {
     "slide_type": "slide"
    }
   },
   "source": [
    "# <center> Polyglot example </center>"
   ]
  },
  {
   "cell_type": "markdown",
   "metadata": {
    "slideshow": {
     "slide_type": "fragment"
    }
   },
   "source": [
    "* use python to download an image from omero\n",
    "* use groovy to run an ImageJ-macro on it"
   ]
  },
  {
   "cell_type": "code",
   "execution_count": null,
   "metadata": {
    "slideshow": {
     "slide_type": "subslide"
    }
   },
   "outputs": [],
   "source": [
    "%%python\n",
    "import ipywidgets as widgets\n",
    "from omero.gateway import BlitzGateway\n",
    "hosts = [\"workshop.openmicroscopy.org\", \"omero.mri.cnrs.fr\"]\n",
    "port = 4064\n",
    "CD_host = widgets.Dropdown(\n",
    "       options=hosts,\n",
    "       value=hosts[0],\n",
    "       description='host:')\n",
    "CD_port = widgets.IntText(\n",
    "    value=port,\n",
    "    description='port:',\n",
    ") \n",
    "CD_top = widgets.HBox([CD_host, CD_port])\n",
    "CD_user = widgets.Text(\n",
    "    value = 'user',\n",
    "    description = 'user:'\n",
    ")\n",
    "CD_password = widgets.Password(\n",
    "    value = '',\n",
    "    description = 'password:'\n",
    ")\n",
    "CD_button = widgets.Button(\n",
    "    description = 'Connect',\n",
    ")\n",
    "CD_status = widgets.Label(\n",
    "    description = \"Status:\",\n",
    "    value = \"Status: Not connected\"\n",
    ")\n",
    "def on_connect_button_clicked(b):\n",
    "    global conn\n",
    "    CD_status.value = \"Status: Connecting\"\n",
    "    conn = BlitzGateway(CD_user.value,\n",
    "                        CD_password.value,\n",
    "                        host=CD_host.value, port=CD_port.value)\n",
    "    result = conn.connect()\n",
    "    if result:\n",
    "        CD_status.value = \"Status: Connected\"\n",
    "    else:\n",
    "        CD_status.value = \"Status: Not connected\"\n",
    "    \n",
    "CD_button.on_click(on_connect_button_clicked)\n",
    "CD_layout = widgets.Layout(display='flex',\n",
    "                flex_flow='column',\n",
    "                align_items='center',\n",
    "                width='50%')\n",
    "CD = widgets.VBox([CD_top, widgets.HBox([CD_user, CD_password]), widgets.HBox([CD_button],  layout=CD_layout), widgets.HBox([CD_status], layout=CD_layout)])\n",
    "display(CD)"
   ]
  },
  {
   "cell_type": "code",
   "execution_count": null,
   "metadata": {
    "slideshow": {
     "slide_type": "subslide"
    }
   },
   "outputs": [],
   "source": [
    "%%python\n",
    "from IPython.display import Image\n",
    "from PIL import Image as pImage\n",
    "from io import BytesIO, StringIO\n",
    "from base64 import b64encode\n",
    "\n",
    "def on_project_change(change):\n",
    "    global datasets\n",
    "    datasets = list(projects[change['new']].listChildren())    \n",
    "    BD_dataset.options = [(dataset.getName(), dataset.getId()) for dataset in datasets]\n",
    "    BD_dataset.value =  BD_dataset.options[0][1]\n",
    "\n",
    "def on_dataset_change(change):\n",
    "    global images\n",
    "    images = list(datasets[change['new']].listChildren())\n",
    "    BD_image.options = [(image.getName(), image.getId()) for image in images] \n",
    "    BD_image.value = BD_image.options[0][1]\n",
    "\n",
    "def on_image_change(change):\n",
    "    global selectedImageIndex \n",
    "    selectedImageIndex = change['new']\n",
    "    image = images[change['new']]\n",
    "    img_data = image.getThumbnail()\n",
    "    pil_im = pImage.open(BytesIO(img_data))\n",
    "    img_bytes = BytesIO()  \n",
    "    pil_im.save(img_bytes, format='png')\n",
    "    BD_thumb.value = \"<img src='data:image/png;base64,{0}' width=200, height=200/>\".format(b64encode(img_bytes.getvalue()).decode('utf-8'))\n",
    "\n",
    "projects = list(conn.getObjects(\"Project\",\n",
    "                               opts={'owner': conn.getUser().getId(),\n",
    "                                     'group': conn.getEventContext().groupId,\n",
    "                                     'order_by': 'lower(obj.name)'}))\n",
    "projectTupels = [(project.getName(), project.getId()) for project in projects]\n",
    "\n",
    "BD_project = widgets.Dropdown(\n",
    "       continuous_update=True,\n",
    "       options=projectTupels,\n",
    "       value=projectTupels[0][1],\n",
    "       description='project:')\n",
    "\n",
    "BD_dataset = widgets.Dropdown(\n",
    "       description='dataset:')\n",
    "\n",
    "BD_image = widgets.Select(\n",
    "       description='image:') \n",
    "\n",
    "BD_thumb = widgets.HTML(\"\") \n",
    "\n",
    "on_project_change({'new':0})\n",
    "on_dataset_change({'new':0})\n",
    "on_image_change({'new':0})\n",
    "\n",
    "BD_left = widgets.VBox([BD_project, BD_image])\n",
    "BD_right = widgets.VBox([BD_dataset, BD_thumb, CD_layout])\n",
    "BD_right.layout.align_items = 'flex-end'\n",
    "BD_all = widgets.HBox([BD_left, BD_right])\n",
    "BD_project.observe(on_project_change, names=\"index\")\n",
    "BD_dataset.observe(on_dataset_change, names=\"index\")\n",
    "BD_image.observe(on_image_change, names=\"index\")\n",
    "display(BD_all)\n"
   ]
  },
  {
   "cell_type": "markdown",
   "metadata": {},
   "source": [
    "# <center> Polyglot example: download the images of the selected dataset </center>"
   ]
  },
  {
   "cell_type": "code",
   "execution_count": null,
   "metadata": {},
   "outputs": [],
   "source": [
    "%%python\n",
    "!rm -rf ./tmp\n",
    "!mkdir -p ./tmp\n",
    "\n",
    "import threading, time\n",
    "\n",
    "DD_download_button = widgets.Button(\n",
    "    description = 'Download dataset' \n",
    ")\n",
    "DD_status = widgets.Label(\n",
    "    description = \"status\",\n",
    "    value = \"Status: waiting...\"\n",
    ")\n",
    "\n",
    "def on_download_button_clicked(b): \n",
    "    counter = 1\n",
    "    for image in images:\n",
    "        newStatus = \"Status: downloading image \" + str(counter) + \" of \" + str(len(images))\n",
    "        DD_status.value = newStatus\n",
    "        pixels = image.getPrimaryPixels()\n",
    "        plane = pixels.getPlane()\n",
    "        nucleiImage = pImage.fromarray(plane)\n",
    "        nucleiImage.save('./tmp/'+image.getName(), save_all=True)\n",
    "        counter = counter + 1\n",
    "    DD_status.value = \"Status: successfully downloaded \" + str(counter-1) + \" images.\"\n",
    "DD_download_button.on_click(on_download_button_clicked)\n",
    "\n",
    "DD = widgets.VBox([DD_download_button, DD_status])\n",
    "display(DD)"
   ]
  },
  {
   "cell_type": "code",
   "execution_count": null,
   "metadata": {},
   "outputs": [],
   "source": [
    "%%python\n",
    "!ls -alh ./tmp"
   ]
  },
  {
   "cell_type": "code",
   "execution_count": null,
   "metadata": {},
   "outputs": [],
   "source": [
    "%%python\n",
    "%%writefile /home/jovyan/notebooks/volker/tmp/macro.ijm\n",
    "SCALE_FACTOR = 5;\n",
    "arg = getArgument();\n",
    "parts = split(arg, \",\");\n",
    "\n",
    "for(i=0; i<parts.length; i++) {\n",
    "\tnameAndValue = split(parts[i], \"=\");\n",
    "\tif (indexOf(nameAndValue[0], \"input\")>-1) inputPath=nameAndValue[1];\n",
    "\tif (indexOf(nameAndValue[0], \"scale_factor\")>-1) SCALE_FACTOR=nameAndValue[1];\n",
    "}\n",
    "open(inputPath);\n",
    "title = getTitle();\n",
    "run(\"Set Measurements...\", \"area mean modal min centroid perimeter bounding fit shape feret's integrated median skewness kurtosis area_fraction display redirect=\"+title+\" decimal=9\");\n",
    "width = getWidth();\n",
    "height = getHeight();\n",
    "run(\"Scale...\", \"x=\"+(1.0/SCALE_FACTOR)+\" y=\"+(1.0/SCALE_FACTOR)+\" interpolation=Bilinear create title=small_tmp\");\n",
    "setAutoThreshold(\"Huang dark\");\n",
    "run(\"Convert to Mask\");\n",
    "run(\"Fill Holes\");\n",
    "run(\"Watershed\");\n",
    "run(\"Scale...\", \"x=- y=- width=\"+width+\" height=\"+height+\" interpolation=Bilinear create title=big_tmp\");\n",
    "setAutoThreshold(\"Huang dark\");\n",
    "roiManager(\"Reset\");\n",
    "run(\"Analyze Particles...\", \"size=0-Infinity circularity=0.00-1.00 show=Overlay exclude display in_situ\");\n",
    "Overlay.copy;\n",
    "close();\n",
    "close();\n",
    "Overlay.paste;\n",
    "if (!File.exists(File.directory + \"/out\")) File.makeDirectory(File.directory + \"/out\");\n",
    "save(File.directory + \"/out/\" + File.name);\n",
    "run(\"Close All\");\n",
    "table = getInfo(\"window.contents\");\n",
    "print(table);"
   ]
  },
  {
   "cell_type": "code",
   "execution_count": 1,
   "metadata": {},
   "outputs": [
    {
     "data": {
      "application/vnd.jupyter.widget-view+json": {
       "model_id": "bedf7e2e-0f97-4208-aea1-ef728208bf69",
       "version_major": 2,
       "version_minor": 0
      },
      "method": "display_data"
     },
     "metadata": {},
     "output_type": "display_data"
    },
    {
     "data": {
      "application/vnd.jupyter.widget-view+json": {
       "model_id": "efe863e2-0c8d-4a3e-a709-07427c433d7b",
       "version_major": 2,
       "version_minor": 0
      },
      "method": "display_data"
     },
     "metadata": {},
     "output_type": "display_data"
    }
   ],
   "source": [
    "//Add dependencies to the classpath\n",
    "%classpath add jar /opt/java-apps/Fiji.app/jars/*\n",
    "%classpath add jar /opt/java-apps/Fiji.app/plugins/*"
   ]
  },
  {
   "cell_type": "code",
   "execution_count": null,
   "metadata": {},
   "outputs": [
    {
     "name": "stdout",
     "output_type": "stream",
     "text": [
      " \tLabel\tArea\tMean\tMode\tMin\tMax\tX\tY\tPerim.\tBX\tBY\tWidth\tHeight\tMajor\tMinor\tAngle\tCirc.\tFeret\tIntDen\tMedian\tSkew\tKurt\t%Area\tRawIntDen\tFeretX\tFeretY\tFeretAngle\tMinFeret\tAR\tRound\tSolidity\n",
      "1\tgwlmabrp875gwlv5_w3Hoechst.TIF\t10202\t10353.091550676\t9419\t4331\t16380\t337.330915507\t106.035287199\t394.232539419\t283\t38\t107\t132\t143.838261445\t90.306916288\t56.924610040\t0.824879002\t147.299015611\t105622240\t10180\t-0.112429016\t-0.168288041\t100\t105622240\t295\t165\t55.231043445\t93.400000000\t1.592771267\t0.627836539\t0.961772331\n",
      "2\tgwlmabrp875gwlv5_w3Hoechst.TIF\t13999\t7954.662118723\t8315\t4214\t11074\t701.671512251\t150.813736695\t461.303607231\t643\t73\t117\t157\t163.217578166\t109.204416504\t112.544186534\t0.826671902\t167.026943934\t111357315\t7994\t-0.282783709\t0.479401828\t100\t111357315\t670\t73\t109.953799220\t112.697826066\t1.494606019\t0.669072644\t0.970400665\n",
      "3\tgwlmabrp875gwlv5_w3Hoechst.TIF\t71\t6062.774647887\t4590\t4590\t7554\t181.514084507\t99.077464789\t30.970562748\t178\t93\t7\t12\t12.054813108\t7.499079983\t89.201968071\t0.930186472\t12.369316877\t430457\t5923\t0.285455800\t-0.882668122\t100\t430457\t180\t105\t75.963756532\t7.000000000\t1.607505605\t0.622081812\t0.940397351\n",
      "4\tgwlmabrp875gwlv5_w3Hoechst.TIF\t13578\t13299.361540728\t13086\t4341\t27052\t408.560686404\t318.547650611\t458.960461481\t353\t233\t107\t167\t169.976907291\t101.708207391\t81.717314015\t0.810018842\t171.268794589\t180578731\t13332\t-0.240420140\t-0.154491037\t100\t180578731\t390\t400\t77.180905835\t105.303846084\t1.671221150\t0.598364854\t0.967990304\n",
      "5\tgwlmabrp875gwlv5_w3Hoechst.TIF\t16236\t11466.563254496\t11957\t4343\t20008\t606.630327667\t401.239837398\t500.173664916\t543\t318\t127\t172\t183.847744185\t112.442593952\t114.362054472\t0.815543749\t186.461792333\t186171121\t11793\t-0.403789888\t0.236031620\t100\t186171121\t565\t318\t112.714412353\t114.486680448\t1.635036490\t0.611607145\t0.969863505\n",
      "6\tgwlmabrp875gwlv5_w3Hoechst.TIF\t10978\t10910.181727091\t11356\t4497\t17426\t188.992439424\t404.956549463\t407.747258045\t143\t328\t92\t152\t150.575157239\t92.828219332\t89.093316598\t0.829757128\t153.583853318\t119771975\t11207\t-0.636026320\t0.413768197\t100\t119771975\t176\t480\t81.764380676\t92.000000000\t1.622083870\t0.616490934\t0.969616675\n",
      "7\tgwlmabrp875gwlv5_w3Hoechst.TIF\t6850\t10757.123503650\t10300\t4435\t19361\t52.538394161\t445.260437956\t335.320851174\t3\t393\t92\t107\t104.642463606\t83.347530064\t67.579637304\t0.765560144\t109.713262644\t73686296\t10807\t0.045647142\t0.210374070\t100\t73686296\t4\t474\t42.414205658\t83.484130228\t1.255495676\t0.796498163\t0.941257300\n",
      "8\tgwlmabrp875gwlv5_w3Hoechst.TIF\t13574\t10094.738323265\t10113\t3969\t16254\t826.961691469\t569.026079269\t450.173664916\t767\t493\t122\t152\t160.566255431\t107.637520311\t60.471631709\t0.841700409\t162.828130248\t137025978\t10296\t-0.736043485\t1.081296101\t100\t137025978\t780\t635\t57.285916081\t111.200000000\t1.491731275\t0.670362026\t0.965880386\n",
      "9\tgwlmabrp875gwlv5_w3Hoechst.TIF\t10602\t10408.368043765\t9952\t4121\t15600\t106.021599698\t601.367100547\t405.404112295\t48\t538\t117\t127\t147.472383932\t91.535006714\t128.378298363\t0.810627559\t150.206524492\t110349518\t10634\t-0.534232189\t0.034269010\t100\t110349518\t60\t543\t126.335864567\t91.923881554\t1.611103656\t0.620692527\t0.970479198\n",
      "10\tgwlmabrp875gwlv5_w3Hoechst.TIF\t14550\t11905.511477663\t11956\t4034\t19155\t413.078625430\t621.025017182\t484.315800540\t348\t543\t132\t162\t172.841221021\t107.182969817\t59.051900210\t0.779499034\t175.276923752\t173225192\t12484\t-0.790256825\t0.228033852\t100\t173225192\t374\t699\t59.484733560\t110.014544493\t1.612581003\t0.620123887\t0.962015273\n",
      "11\tgwlmabrp875gwlv5_w3Hoechst.TIF\t12371\t9002.570042842\t9613\t3886\t14104\t148.165750546\t792.613733732\t447.587878479\t73\t728\t147\t126\t162.119515057\t97.158237874\t34.989436107\t0.775993419\t164.124952399\t111370794.000000010\t9068\t-0.337108752\t0.629242569\t100\t111370794.000000010\t73\t832\t30.784146526\t98.994949366\t1.668613168\t0.599300077\t0.963773761\n",
      "12\tgwlmabrp875gwlv5_w3Hoechst.TIF\t10896\t9325.459618209\t9005\t3874\t13571\t681.410792952\t775.247522026\t421.060966544\t598\t728\t162\t91\t164.238739128\t84.469828209\t15.495352373\t0.772301703\t167.355908172\t101610208.000000000\t9555\t-0.756974814\t0.707724209\t100\t101610208.000000000\t598\t793\t14.534455081\t89.492457783\t1.944347971\t0.514311232\t0.970171846\n"
     ]
    }
   ],
   "source": [
    "import ij.IJ\n",
    "import static groovy.io.FileType.FILES\n",
    "scaleFactor = 5\n",
    "\n",
    "macro = new File('/home/jovyan/notebooks/volker/tmp/macro.ijm').text\n",
    "\n",
    "def dir = new File(\"/home/jovyan/notebooks/volker/tmp\");\n",
    "def files = [];\n",
    "dir.traverse(type: FILES, maxDepth: 0) { if (it.getName().contains(\".TIF\")) files.add(it) };\n",
    "file = files[0]\n",
    "args = \"input=\"+file.getPath()+\", scale_factor=\"+scaleFactor\n",
    "answer = IJ.runMacro(macro, args)"
   ]
  },
  {
   "cell_type": "code",
   "execution_count": null,
   "metadata": {},
   "outputs": [],
   "source": [
    "print(answer)"
   ]
  },
  {
   "cell_type": "code",
   "execution_count": null,
   "metadata": {},
   "outputs": [],
   "source": [
    "display = new TableDisplay(new CSV(answer))\n",
    "display"
   ]
  },
  {
   "cell_type": "code",
   "execution_count": null,
   "metadata": {},
   "outputs": [],
   "source": [
    "%%python\n",
    "conn.close()"
   ]
  }
 ],
 "metadata": {
  "celltoolbar": "Slideshow",
  "kernelspec": {
   "display_name": "Groovy",
   "language": "groovy",
   "name": "groovy"
  },
  "language_info": {
   "codemirror_mode": "groovy",
   "file_extension": ".groovy",
   "mimetype": "",
   "name": "Groovy",
   "nbconverter_exporter": "",
   "version": "2.5.6"
  },
  "toc": {
   "base_numbering": 1,
   "nav_menu": {},
   "number_sections": false,
   "sideBar": false,
   "skip_h1_title": false,
   "title_cell": "Table of Contents",
   "title_sidebar": "Contents",
   "toc_cell": false,
   "toc_position": {},
   "toc_section_display": false,
   "toc_window_display": false
  }
 },
 "nbformat": 4,
 "nbformat_minor": 4
}
