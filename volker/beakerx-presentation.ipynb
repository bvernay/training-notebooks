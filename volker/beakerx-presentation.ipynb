{
 "cells": [
  {
   "cell_type": "markdown",
   "metadata": {
    "slideshow": {
     "slide_type": "slide"
    }
   },
   "source": [
    "# <center> BeakerX </center>"
   ]
  },
  {
   "cell_type": "markdown",
   "metadata": {
    "slideshow": {
     "slide_type": "fragment"
    }
   },
   "source": [
    "## <center> Volker Bäcker </center>"
   ]
  },
  {
   "cell_type": "markdown",
   "metadata": {
    "slideshow": {
     "slide_type": "fragment"
    }
   },
   "source": [
    "### <center> 27.01.2020 </center>"
   ]
  },
  {
   "cell_type": "markdown",
   "metadata": {
    "slideshow": {
     "slide_type": "slide"
    }
   },
   "source": [
    "# <center> BeakerX features </center>"
   ]
  },
  {
   "cell_type": "markdown",
   "metadata": {
    "slideshow": {
     "slide_type": "fragment"
    }
   },
   "source": [
    "1. polyglot\n",
    "1. EasyForm widgets\n",
    "1. interactive plots\n",
    "1. interactive tables\n",
    "1. spark support\n",
    "1. instant publication\n",
    "1. java support"
   ]
  },
  {
   "cell_type": "markdown",
   "metadata": {
    "slideshow": {
     "slide_type": "slide"
    }
   },
   "source": [
    "# <center> BeakerX history </center>"
   ]
  },
  {
   "cell_type": "markdown",
   "metadata": {
    "slideshow": {
     "slide_type": "fragment"
    }
   },
   "source": [
    "* beaker-notebook\n",
    "> * independant notebook implementation\n",
    "\n",
    "* beakerX\n",
    "> * re-implementation as a jupyter-notebook extension"
   ]
  },
  {
   "cell_type": "markdown",
   "metadata": {
    "slideshow": {
     "slide_type": "slide"
    }
   },
   "source": [
    "# <center> Polyglot - introduction </center>"
   ]
  },
  {
   "cell_type": "markdown",
   "metadata": {
    "slideshow": {
     "slide_type": "fragment"
    }
   },
   "source": [
    "* different cells in the same notebook can execute different languages\n",
    "* data can be exchanged between languages"
   ]
  },
  {
   "cell_type": "markdown",
   "metadata": {},
   "source": [
    "Data can be exchanged between languages by attaching it to the ``beakerx`` object.\n",
    "\n",
    "In a ``groovy``-cell we attach the number 6 to the ``beakerx`` object with the name ``myValue``."
   ]
  },
  {
   "cell_type": "code",
   "execution_count": 1,
   "metadata": {
    "slideshow": {
     "slide_type": "fragment"
    }
   },
   "outputs": [
    {
     "data": {
      "text/plain": [
       "6"
      ]
     },
     "execution_count": 1,
     "metadata": {},
     "output_type": "execute_result"
    }
   ],
   "source": [
    "beakerx.myValue = 6"
   ]
  },
  {
   "cell_type": "markdown",
   "metadata": {},
   "source": [
    "We get the value back in a ``java``-cell and modify it on the ``beakerx`` object."
   ]
  },
  {
   "cell_type": "code",
   "execution_count": 2,
   "metadata": {
    "slideshow": {
     "slide_type": "fragment"
    }
   },
   "outputs": [
    {
     "name": "stdout",
     "output_type": "stream",
     "text": [
      "6\n"
     ]
    },
    {
     "data": {
      "text/plain": [
       "null"
      ]
     },
     "execution_count": 1,
     "metadata": {},
     "output_type": "execute_result"
    }
   ],
   "source": [
    "%%java\n",
    "Integer a = (Integer)NamespaceClient.getBeakerX().get(\"myValue\");\n",
    "System.out.println(a);\n",
    "NamespaceClient.getBeakerX().set(\"myValue\", a+1);"
   ]
  },
  {
   "cell_type": "markdown",
   "metadata": {},
   "source": [
    "We get the current value in a ``kotlin``-cell. ``kotlin`` is a java like programming language prefered for ``android`` development."
   ]
  },
  {
   "cell_type": "code",
   "execution_count": 3,
   "metadata": {
    "slideshow": {
     "slide_type": "fragment"
    }
   },
   "outputs": [
    {
     "data": {
      "text/plain": [
       "7"
      ]
     },
     "execution_count": 1,
     "metadata": {},
     "output_type": "execute_result"
    }
   ],
   "source": [
    "%%kotlin\n",
    "beakerx[\"myValue\"]"
   ]
  },
  {
   "cell_type": "markdown",
   "metadata": {},
   "source": [
    "In python it would work as well, but the OMERO-python kernel here is not configured to use beakerx <big>&#128577;</big>."
   ]
  },
  {
   "cell_type": "code",
   "execution_count": null,
   "metadata": {},
   "outputs": [],
   "source": [
    "%%python\n",
    "from beakerx.object import beakerx\n",
    "beakerx.myValue"
   ]
  },
  {
   "cell_type": "markdown",
   "metadata": {
    "slideshow": {
     "slide_type": "slide"
    }
   },
   "source": [
    "# <center> Polyglot example </center>"
   ]
  },
  {
   "cell_type": "markdown",
   "metadata": {
    "slideshow": {
     "slide_type": "fragment"
    }
   },
   "source": [
    "* use python to download an image from omero\n",
    "* use groovy to run an ImageJ-macro on it"
   ]
  },
  {
   "cell_type": "markdown",
   "metadata": {},
   "source": [
    "We create a connetion-dialog using ``ipywidgets``. In ``beakerx`` we would use ``EasyForms`` which is easier to use.\n",
    "\n",
    "Notes:\n",
    "* We create widgets for the omero-host, the port, the username, the password, a connect button and a status text.\n",
    "* The connect button has a function associated, which is executed when the button is pressed.\n",
    "* The update of the status-text is not working correctly. The event-loop just does not get the time to do it. The status will be updated correctly after you executed the next cell. There are solutions for this, but no time now.... You can fix this as a homework <big>&#x1F642;</big>."
   ]
  },
  {
   "cell_type": "code",
   "execution_count": 1,
   "metadata": {
    "slideshow": {
     "slide_type": "subslide"
    }
   },
   "outputs": [
    {
     "data": {
      "application/vnd.jupyter.widget-view+json": {
       "model_id": "dba076a4397845f6a116c0fa837c01ad",
       "version_major": 2,
       "version_minor": 0
      },
      "text/plain": [
       "VBox(children=(HBox(children=(Dropdown(description='host:', options=('workshop.openmicroscopy.org', 'omero.mri…"
      ]
     },
     "metadata": {},
     "output_type": "display_data"
    }
   ],
   "source": [
    "%%python\n",
    "import ipywidgets as widgets\n",
    "from omero.gateway import BlitzGateway\n",
    "hosts = [\"workshop.openmicroscopy.org\", \"omero.mri.cnrs.fr\"]\n",
    "port = 4064\n",
    "CD_host = widgets.Dropdown(\n",
    "       options=hosts,\n",
    "       value=hosts[0],\n",
    "       description='host:')\n",
    "CD_port = widgets.IntText(\n",
    "    value=port,\n",
    "    description='port:',\n",
    ") \n",
    "CD_top = widgets.HBox([CD_host, CD_port])\n",
    "CD_user = widgets.Text(\n",
    "    value = 'user',\n",
    "    description = 'user:'\n",
    ")\n",
    "CD_password = widgets.Password(\n",
    "    value = '',\n",
    "    description = 'password:'\n",
    ")\n",
    "CD_button = widgets.Button(\n",
    "    description = 'Connect',\n",
    ")\n",
    "CD_status = widgets.Label(\n",
    "    description = \"Status:\",\n",
    "    value = \"Status: Not connected\"\n",
    ")\n",
    "def on_connect_button_clicked(b):\n",
    "    global conn\n",
    "    CD_status.value = \"Status: Connecting\"\n",
    "    conn = BlitzGateway(CD_user.value,\n",
    "                        CD_password.value,\n",
    "                        host=CD_host.value, port=CD_port.value)\n",
    "    result = conn.connect()\n",
    "    if result:\n",
    "        CD_status.value = \"Status: Connected\"\n",
    "    else:\n",
    "        CD_status.value = \"Status: Not connected\"\n",
    "    \n",
    "CD_button.on_click(on_connect_button_clicked)\n",
    "CD_layout = widgets.Layout(display='flex',\n",
    "                flex_flow='column',\n",
    "                align_items='center',\n",
    "                width='50%')\n",
    "CD = widgets.VBox([CD_top, widgets.HBox([CD_user, CD_password]), widgets.HBox([CD_button],  layout=CD_layout), widgets.HBox([CD_status], layout=CD_layout)])\n",
    "display(CD)"
   ]
  },
  {
   "cell_type": "code",
   "execution_count": null,
   "metadata": {
    "slideshow": {
     "slide_type": "subslide"
    }
   },
   "outputs": [],
   "source": [
    "%%python\n",
    "from IPython.display import Image\n",
    "from PIL import Image as pImage\n",
    "from io import BytesIO, StringIO\n",
    "from base64 import b64encode\n",
    "\n",
    "def on_project_change(change):\n",
    "    global datasets\n",
    "    datasets = list(projects[change['new']].listChildren())    \n",
    "    BD_dataset.options = [(dataset.getName(), dataset.getId()) for dataset in datasets]\n",
    "    BD_dataset.value =  BD_dataset.options[0][1]\n",
    "\n",
    "def on_dataset_change(change):\n",
    "    global images\n",
    "    images = list(datasets[change['new']].listChildren())\n",
    "    BD_image.options = [(image.getName(), image.getId()) for image in images] \n",
    "    BD_image.value = BD_image.options[0][1]\n",
    "\n",
    "def on_image_change(change):\n",
    "    global selectedImageIndex \n",
    "    selectedImageIndex = change['new']\n",
    "    image = images[change['new']]\n",
    "    img_data = image.getThumbnail()\n",
    "    pil_im = pImage.open(BytesIO(img_data))\n",
    "    img_bytes = BytesIO()  \n",
    "    pil_im.save(img_bytes, format='png')\n",
    "    BD_thumb.value = \"<img src='data:image/png;base64,{0}' width=200, height=200/>\".format(b64encode(img_bytes.getvalue()).decode('utf-8'))\n",
    "\n",
    "projects = list(conn.getObjects(\"Project\",\n",
    "                               opts={'owner': conn.getUser().getId(),\n",
    "                                     'group': conn.getEventContext().groupId,\n",
    "                                     'order_by': 'lower(obj.name)'}))\n",
    "projectTupels = [(project.getName(), project.getId()) for project in projects]\n",
    "\n",
    "BD_project = widgets.Dropdown(\n",
    "       continuous_update=True,\n",
    "       options=projectTupels,\n",
    "       value=projectTupels[0][1],\n",
    "       description='project:')\n",
    "\n",
    "BD_dataset = widgets.Dropdown(\n",
    "       description='dataset:')\n",
    "\n",
    "BD_image = widgets.Select(\n",
    "       description='image:') \n",
    "\n",
    "BD_thumb = widgets.HTML(\"\") \n",
    "\n",
    "on_project_change({'new':0})\n",
    "on_dataset_change({'new':0})\n",
    "on_image_change({'new':0})\n",
    "\n",
    "BD_left = widgets.VBox([BD_project, BD_image])\n",
    "BD_right = widgets.VBox([BD_dataset, BD_thumb, CD_layout])\n",
    "BD_right.layout.align_items = 'flex-end'\n",
    "BD_all = widgets.HBox([BD_left, BD_right])\n",
    "BD_project.observe(on_project_change, names=\"index\")\n",
    "BD_dataset.observe(on_dataset_change, names=\"index\")\n",
    "BD_image.observe(on_image_change, names=\"index\")\n",
    "display(BD_all)\n"
   ]
  },
  {
   "cell_type": "markdown",
   "metadata": {},
   "source": [
    "# <center> Polyglot example: download the images of the selected dataset </center>"
   ]
  },
  {
   "cell_type": "code",
   "execution_count": null,
   "metadata": {},
   "outputs": [],
   "source": [
    "%%python\n",
    "!rm -rf ./tmp\n",
    "!mkdir -p ./tmp\n",
    "\n",
    "import threading, time\n",
    "\n",
    "DD_download_button = widgets.Button(\n",
    "    description = 'Download dataset' \n",
    ")\n",
    "DD_status = widgets.Label(\n",
    "    description = \"status\",\n",
    "    value = \"Status: waiting...\"\n",
    ")\n",
    "\n",
    "def on_download_button_clicked(b): \n",
    "    counter = 1\n",
    "    for image in images:\n",
    "        newStatus = \"Status: downloading image \" + str(counter) + \" of \" + str(len(images))\n",
    "        DD_status.value = newStatus\n",
    "        pixels = image.getPrimaryPixels()\n",
    "        plane = pixels.getPlane()\n",
    "        nucleiImage = pImage.fromarray(plane)\n",
    "        nucleiImage.save('./tmp/'+image.getName(), save_all=True)\n",
    "        counter = counter + 1\n",
    "    DD_status.value = \"Status: successfully downloaded \" + str(counter-1) + \" images.\"\n",
    "DD_download_button.on_click(on_download_button_clicked)\n",
    "\n",
    "DD = widgets.VBox([DD_download_button, DD_status])\n",
    "display(DD)"
   ]
  },
  {
   "cell_type": "code",
   "execution_count": null,
   "metadata": {},
   "outputs": [],
   "source": [
    "%%python\n",
    "!ls -alh ./tmp"
   ]
  },
  {
   "cell_type": "code",
   "execution_count": null,
   "metadata": {},
   "outputs": [],
   "source": [
    "%%python\n",
    "%%writefile /home/jovyan/notebooks/volker/tmp/macro.ijm\n",
    "SCALE_FACTOR = 5;\n",
    "arg = getArgument();\n",
    "parts = split(arg, \",\");\n",
    "\n",
    "for(i=0; i<parts.length; i++) {\n",
    "\tnameAndValue = split(parts[i], \"=\");\n",
    "\tif (indexOf(nameAndValue[0], \"input\")>-1) inputPath=nameAndValue[1];\n",
    "\tif (indexOf(nameAndValue[0], \"scale_factor\")>-1) SCALE_FACTOR=nameAndValue[1];\n",
    "}\n",
    "open(inputPath);\n",
    "title = getTitle();\n",
    "run(\"Set Measurements...\", \"area mean modal min centroid perimeter bounding fit shape feret's integrated median skewness kurtosis area_fraction display redirect=\"+title+\" decimal=9\");\n",
    "width = getWidth();\n",
    "height = getHeight();\n",
    "run(\"Scale...\", \"x=\"+(1.0/SCALE_FACTOR)+\" y=\"+(1.0/SCALE_FACTOR)+\" interpolation=Bilinear create title=small_tmp\");\n",
    "setAutoThreshold(\"Huang dark\");\n",
    "run(\"Convert to Mask\");\n",
    "run(\"Fill Holes\");\n",
    "run(\"Watershed\");\n",
    "run(\"Scale...\", \"x=- y=- width=\"+width+\" height=\"+height+\" interpolation=Bilinear create title=big_tmp\");\n",
    "setAutoThreshold(\"Huang dark\");\n",
    "roiManager(\"Reset\");\n",
    "run(\"Analyze Particles...\", \"size=0-Infinity circularity=0.00-1.00 show=Overlay exclude display in_situ\");\n",
    "Overlay.copy;\n",
    "close();\n",
    "close();\n",
    "Overlay.paste;\n",
    "if (!File.exists(File.directory + \"/out\")) File.makeDirectory(File.directory + \"/out\");\n",
    "save(File.directory + \"/out/\" + File.name);\n",
    "run(\"Close All\");\n",
    "saveAs(\"results\", File.directory + \"/out/results.csv\");\n",
    "print(\"Done!\");"
   ]
  },
  {
   "cell_type": "code",
   "execution_count": null,
   "metadata": {},
   "outputs": [],
   "source": [
    "//Add dependencies to the classpath\n",
    "%classpath add jar /opt/java-apps/Fiji.app/jars/*\n",
    "%classpath add jar /opt/java-apps/Fiji.app/plugins/*"
   ]
  },
  {
   "cell_type": "code",
   "execution_count": null,
   "metadata": {},
   "outputs": [],
   "source": [
    "import ij.IJ\n",
    "import static groovy.io.FileType.FILES\n",
    "scaleFactor = 5\n",
    "\n",
    "macro = new File('/home/jovyan/notebooks/volker/tmp/macro.ijm').text\n",
    "\n",
    "def dir = new File(\"/home/jovyan/notebooks/volker/tmp\");\n",
    "def files = [];\n",
    "dir.traverse(type: FILES, maxDepth: 0) { if (it.getName().contains(\".TIF\")) files.add(it) };\n",
    "file = files[0]\n",
    "args = \"input=\"+file.getPath()+\", scale_factor=\"+scaleFactor\n",
    "IJ.runMacro('run(\"Clear Results\");', \"\")\n",
    "answer = IJ.runMacro(macro, args)"
   ]
  },
  {
   "cell_type": "code",
   "execution_count": null,
   "metadata": {},
   "outputs": [],
   "source": [
    "%%python\n",
    "!ls ./tmp/out"
   ]
  },
  {
   "cell_type": "code",
   "execution_count": null,
   "metadata": {},
   "outputs": [],
   "source": []
  },
  {
   "cell_type": "code",
   "execution_count": null,
   "metadata": {},
   "outputs": [],
   "source": [
    "csv = new CSV().read(\"/home/jovyan/notebooks/volker/tmp/out/results.csv\")"
   ]
  },
  {
   "cell_type": "markdown",
   "metadata": {},
   "source": [
    "Access a value in the table"
   ]
  },
  {
   "cell_type": "code",
   "execution_count": null,
   "metadata": {},
   "outputs": [],
   "source": [
    "csv[3][\"Area\"]"
   ]
  },
  {
   "cell_type": "markdown",
   "metadata": {},
   "source": [
    "Access a row in the table"
   ]
  },
  {
   "cell_type": "code",
   "execution_count": null,
   "metadata": {},
   "outputs": [],
   "source": [
    "csv[3]"
   ]
  },
  {
   "cell_type": "markdown",
   "metadata": {},
   "source": [
    "Access a column in the table"
   ]
  },
  {
   "cell_type": "code",
   "execution_count": null,
   "metadata": {},
   "outputs": [],
   "source": [
    "csv[\"Area\"]"
   ]
  },
  {
   "cell_type": "markdown",
   "metadata": {},
   "source": [
    "# Plots and histograms"
   ]
  },
  {
   "cell_type": "markdown",
   "metadata": {},
   "source": [
    "Create more data, by applying the macro to all images in the dataset."
   ]
  },
  {
   "cell_type": "code",
   "execution_count": null,
   "metadata": {},
   "outputs": [],
   "source": [
    "import ij.IJ\n",
    "import static groovy.io.FileType.FILES\n",
    "scaleFactor = 5\n",
    "\n",
    "macro = new File('/home/jovyan/notebooks/volker/tmp/macro.ijm').text\n",
    "\n",
    "def dir = new File(\"/home/jovyan/notebooks/volker/tmp\");\n",
    "def files = [];\n",
    "dir.traverse(type: FILES, maxDepth: 0) { if (it.getName().contains(\".TIF\")) files.add(it) };\n",
    "IJ.runMacro('run(\"Clear Results\");', \"\")\n",
    "files.each {\n",
    "    file = it\n",
    "    args = \"input=\"+file.getPath()+\", scale_factor=\"+scaleFactor\n",
    "    answer = IJ.runMacro(macro, args)\n",
    "}"
   ]
  },
  {
   "cell_type": "code",
   "execution_count": null,
   "metadata": {},
   "outputs": [],
   "source": [
    "csv = new CSV().read(\"/home/jovyan/notebooks/volker/tmp/out/results.csv\")"
   ]
  },
  {
   "cell_type": "markdown",
   "metadata": {},
   "source": [
    "Creating a histogram"
   ]
  },
  {
   "cell_type": "code",
   "execution_count": null,
   "metadata": {},
   "outputs": [],
   "source": [
    "areas = csv[\"Area\"]\n",
    "new Histogram(data: areas, binCount: 10);"
   ]
  },
  {
   "cell_type": "markdown",
   "metadata": {},
   "source": [
    "Scatterplot: Are are and mean intensity correlated?"
   ]
  },
  {
   "cell_type": "code",
   "execution_count": null,
   "metadata": {},
   "outputs": [],
   "source": [
    "intDens = csv['Mean']\n",
    "def c = new Color(120, 120, 120, 100)\n",
    "new Plot() << new Points(x: areas, y: intDens, displayName: \"area vs mean\")"
   ]
  },
  {
   "cell_type": "code",
   "execution_count": null,
   "metadata": {},
   "outputs": [],
   "source": [
    "Is the mean area of nuclei different depending on the image?"
   ]
  },
  {
   "cell_type": "code",
   "execution_count": null,
   "metadata": {},
   "outputs": [],
   "source": [
    "tupels = [csv['Label'],csv['Area']].transpose()\n",
    "groups = tupels.groupBy {it[0]}.collectEntries {[(it.key): it.value.sum {it[1]}/it.value.size()]}\n",
    "keys = groups.keySet()\n",
    "values = groups.each { \"$it.key\"(it.value) } \n",
    "print(keys)\n",
    "print(values)\n",
    "new CategoryPlot(categoryMargin: 2) << new CategoryBars(value: [[1,2,3,4,5,6], groups.values()])"
   ]
  },
  {
   "cell_type": "code",
   "execution_count": null,
   "metadata": {},
   "outputs": [],
   "source": [
    "%%python\n",
    "conn.close()"
   ]
  },
  {
   "cell_type": "code",
   "execution_count": null,
   "metadata": {},
   "outputs": [],
   "source": []
  },
  {
   "cell_type": "code",
   "execution_count": null,
   "metadata": {},
   "outputs": [],
   "source": []
  }
 ],
 "metadata": {
  "celltoolbar": "Slideshow",
  "kernelspec": {
   "display_name": "Groovy",
   "language": "groovy",
   "name": "groovy"
  },
  "language_info": {
   "codemirror_mode": "groovy",
   "file_extension": ".groovy",
   "mimetype": "",
   "name": "Groovy",
   "nbconverter_exporter": "",
   "version": "2.5.6"
  },
  "toc": {
   "base_numbering": 1,
   "nav_menu": {},
   "number_sections": false,
   "sideBar": false,
   "skip_h1_title": false,
   "title_cell": "Table of Contents",
   "title_sidebar": "Contents",
   "toc_cell": false,
   "toc_position": {},
   "toc_section_display": false,
   "toc_window_display": false
  }
 },
 "nbformat": 4,
 "nbformat_minor": 4
}
