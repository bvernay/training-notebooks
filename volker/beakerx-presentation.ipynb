{
 "cells": [
  {
   "cell_type": "markdown",
   "metadata": {
    "slideshow": {
     "slide_type": "slide"
    }
   },
   "source": [
    "# <center> BeakerX </center>"
   ]
  },
  {
   "cell_type": "markdown",
   "metadata": {
    "slideshow": {
     "slide_type": "fragment"
    }
   },
   "source": [
    "## <center> Volker Bäcker </center>"
   ]
  },
  {
   "cell_type": "markdown",
   "metadata": {
    "slideshow": {
     "slide_type": "fragment"
    }
   },
   "source": [
    "### <center> 27.01.2020 </center>"
   ]
  },
  {
   "cell_type": "markdown",
   "metadata": {
    "slideshow": {
     "slide_type": "slide"
    }
   },
   "source": [
    "# <center> BeakerX features </center>"
   ]
  },
  {
   "cell_type": "markdown",
   "metadata": {
    "slideshow": {
     "slide_type": "fragment"
    }
   },
   "source": [
    "1. polyglot\n",
    "1. EasyForm widgets\n",
    "1. interactive plots\n",
    "1. interactive tables\n",
    "1. spark support\n",
    "1. instant publication\n",
    "1. java support"
   ]
  },
  {
   "cell_type": "markdown",
   "metadata": {
    "slideshow": {
     "slide_type": "slide"
    }
   },
   "source": [
    "# <center> BeakerX history </center>"
   ]
  },
  {
   "cell_type": "markdown",
   "metadata": {},
   "source": [
    "![beakerx](https://miro.medium.com/max/1096/1*BPo471kiXGeeF9WSln5c6g.png)"
   ]
  },
  {
   "cell_type": "markdown",
   "metadata": {
    "slideshow": {
     "slide_type": "fragment"
    }
   },
   "source": [
    "* beaker-notebook\n",
    "> * independant notebook implementation\n",
    "\n",
    "* BeakerX\n",
    "> * re-implementation as jupyter-notebook extensions"
   ]
  },
  {
   "cell_type": "markdown",
   "metadata": {
    "slideshow": {
     "slide_type": "slide"
    }
   },
   "source": [
    "# <center> Polyglot - introduction </center>"
   ]
  },
  {
   "cell_type": "markdown",
   "metadata": {
    "slideshow": {
     "slide_type": "fragment"
    }
   },
   "source": [
    "* different cells in the same notebook can execute different languages\n",
    "* data can be exchanged between languages"
   ]
  },
  {
   "cell_type": "markdown",
   "metadata": {},
   "source": [
    "Data can be exchanged between languages by attaching it to the ``beakerx`` object.\n",
    "\n",
    "In a ``groovy``-cell we attach the number 6 to the ``beakerx`` object with the name ``myValue``."
   ]
  },
  {
   "cell_type": "code",
   "execution_count": 1,
   "metadata": {
    "slideshow": {
     "slide_type": "fragment"
    }
   },
   "outputs": [
    {
     "data": {
      "text/plain": [
       "6"
      ]
     },
     "execution_count": 1,
     "metadata": {},
     "output_type": "execute_result"
    }
   ],
   "source": [
    "beakerx.myValue = 6"
   ]
  },
  {
   "cell_type": "markdown",
   "metadata": {},
   "source": [
    "We get the value back in a ``java``-cell and modify it on the ``beakerx`` object."
   ]
  },
  {
   "cell_type": "code",
   "execution_count": 2,
   "metadata": {
    "slideshow": {
     "slide_type": "fragment"
    }
   },
   "outputs": [
    {
     "name": "stdout",
     "output_type": "stream",
     "text": [
      "6\n"
     ]
    },
    {
     "data": {
      "text/plain": [
       "null"
      ]
     },
     "execution_count": 1,
     "metadata": {},
     "output_type": "execute_result"
    }
   ],
   "source": [
    "%%java\n",
    "Integer a = (Integer)NamespaceClient.getBeakerX().get(\"myValue\");\n",
    "System.out.println(a);\n",
    "NamespaceClient.getBeakerX().set(\"myValue\", a+1);"
   ]
  },
  {
   "cell_type": "markdown",
   "metadata": {},
   "source": [
    "We get the current value in a ``kotlin``-cell. ``kotlin`` is a java like programming language prefered for ``android`` development."
   ]
  },
  {
   "cell_type": "code",
   "execution_count": 3,
   "metadata": {
    "slideshow": {
     "slide_type": "fragment"
    }
   },
   "outputs": [
    {
     "data": {
      "text/plain": [
       "7"
      ]
     },
     "execution_count": 1,
     "metadata": {},
     "output_type": "execute_result"
    }
   ],
   "source": [
    "%%kotlin\n",
    "beakerx[\"myValue\"]"
   ]
  },
  {
   "cell_type": "markdown",
   "metadata": {},
   "source": [
    "In python it would work as well, but the OMERO-python kernel here is not configured to use beakerx <big>&#128577;</big>."
   ]
  },
  {
   "cell_type": "code",
   "execution_count": null,
   "metadata": {},
   "outputs": [],
   "source": [
    "%%python\n",
    "from beakerx.object import beakerx\n",
    "beakerx.myValue"
   ]
  },
  {
   "cell_type": "markdown",
   "metadata": {
    "slideshow": {
     "slide_type": "slide"
    }
   },
   "source": [
    "# <center> Polyglot example </center>"
   ]
  },
  {
   "cell_type": "markdown",
   "metadata": {
    "slideshow": {
     "slide_type": "fragment"
    }
   },
   "source": [
    "* use python to download an image from omero\n",
    "* use groovy to run an ImageJ-macro on it"
   ]
  },
  {
   "cell_type": "markdown",
   "metadata": {},
   "source": [
    "We create a connetion-dialog using ``ipywidgets``. In ``beakerx`` we would use ``EasyForms`` which is easier to use.\n",
    "\n",
    "Notes:\n",
    "* We create widgets for the omero-host, the port, the username, the password, a connect button and a status text.\n",
    "* The connect button has a function associated, which is executed when the button is pressed.\n",
    "* The update of the status-text is not working correctly. The event-loop just does not get the time to do it. The status will be updated correctly after you executed the next cell. There are solutions for this, but no time now.... You can fix this as a homework <big>&#x1F642;</big>."
   ]
  },
  {
   "cell_type": "code",
   "execution_count": 3,
   "metadata": {
    "slideshow": {
     "slide_type": "subslide"
    }
   },
   "outputs": [
    {
     "data": {
      "application/vnd.jupyter.widget-view+json": {
       "model_id": "0ec536bc1b614bc28710662fbb683322",
       "version_major": 2,
       "version_minor": 0
      },
      "text/plain": [
       "VBox(children=(HBox(children=(Dropdown(description='host:', options=('workshop.openmicroscopy.org', 'omero.mri…"
      ]
     },
     "metadata": {},
     "output_type": "display_data"
    }
   ],
   "source": [
    "%%python\n",
    "import ipywidgets as widgets\n",
    "from omero.gateway import BlitzGateway\n",
    "hosts = [\"workshop.openmicroscopy.org\", \"omero.mri.cnrs.fr\"]\n",
    "port = 4064\n",
    "CD_host = widgets.Dropdown(\n",
    "       options=hosts,\n",
    "       value=hosts[0],\n",
    "       description='host:')\n",
    "CD_port = widgets.IntText(\n",
    "    value=port,\n",
    "    description='port:',\n",
    ") \n",
    "CD_top = widgets.HBox([CD_host, CD_port])\n",
    "CD_user = widgets.Text(\n",
    "    value = 'user',\n",
    "    description = 'user:'\n",
    ")\n",
    "CD_password = widgets.Password(\n",
    "    value = '',\n",
    "    description = 'password:'\n",
    ")\n",
    "CD_button = widgets.Button(\n",
    "    description = 'Connect',\n",
    ")\n",
    "CD_status = widgets.Label(\n",
    "    description = \"Status:\",\n",
    "    value = \"Status: Not connected\"\n",
    ")\n",
    "def on_connect_button_clicked(b):\n",
    "    global conn\n",
    "    CD_status.value = \"Status: Connecting\"\n",
    "    conn = BlitzGateway(CD_user.value,\n",
    "                        CD_password.value,\n",
    "                        host=CD_host.value, port=CD_port.value)\n",
    "    result = conn.connect()\n",
    "    if result:\n",
    "        CD_status.value = \"Status: Connected\"\n",
    "    else:\n",
    "        CD_status.value = \"Status: Not connected\"\n",
    "    \n",
    "CD_button.on_click(on_connect_button_clicked)\n",
    "CD_layout = widgets.Layout(display='flex',\n",
    "                flex_flow='column',\n",
    "                align_items='center',\n",
    "                width='50%')\n",
    "CD = widgets.VBox([CD_top, widgets.HBox([CD_user, CD_password]), widgets.HBox([CD_button],  layout=CD_layout), widgets.HBox([CD_status], layout=CD_layout)])\n",
    "display(CD)"
   ]
  },
  {
   "cell_type": "markdown",
   "metadata": {},
   "source": [
    "We first get the list of projects of the connected user from Omero. We then create a dialog, that lets the user select a project and a dataset and that displays the thumbnail of the selected image.  \n",
    "\n",
    "* The list of datasets in a project can be accessed by the method ``getChildren`` of the ``project``-object. \n",
    "* The list of images in a dataset can be accessed by the method ``getChildren`` of the ``dataset``-object. \n",
    "* The thumbnail of an image can be accessed via the method ``getThumbnail`` of the ``image``-object.\n",
    "* We use ``Python Imaging Library (PIL`` to get the ``bytes`` of the thumbnail and ``html`` to display the bytes as an image (one of many ways to display an image)."
   ]
  },
  {
   "cell_type": "code",
   "execution_count": 6,
   "metadata": {
    "slideshow": {
     "slide_type": "subslide"
    }
   },
   "outputs": [
    {
     "data": {
      "application/vnd.jupyter.widget-view+json": {
       "model_id": "7876694b456f49ebaae2f090fe2232ef",
       "version_major": 2,
       "version_minor": 0
      },
      "text/plain": [
       "HBox(children=(VBox(children=(Dropdown(description='project:', options=(('idr00021', 976), ('matlab-project', …"
      ]
     },
     "metadata": {},
     "output_type": "display_data"
    }
   ],
   "source": [
    "%%python\n",
    "from IPython.display import Image\n",
    "from PIL import Image as pImage\n",
    "from io import BytesIO, StringIO\n",
    "from base64 import b64encode\n",
    "\n",
    "def on_project_change(change):\n",
    "    global datasets\n",
    "    datasets = list(projects[change['new']].listChildren())    \n",
    "    BD_dataset.options = [(dataset.getName(), dataset.getId()) for dataset in datasets]\n",
    "    BD_dataset.value =  BD_dataset.options[0][1]\n",
    "\n",
    "def on_dataset_change(change):\n",
    "    global images\n",
    "    images = list(datasets[change['new']].listChildren())\n",
    "    BD_image.options = [(image.getName(), image.getId()) for image in images] \n",
    "    BD_image.value = BD_image.options[0][1]\n",
    "\n",
    "def on_image_change(change):\n",
    "    global selectedImageIndex \n",
    "    selectedImageIndex = change['new']\n",
    "    image = images[change['new']]\n",
    "    img_data = image.getThumbnail()\n",
    "    pil_im = pImage.open(BytesIO(img_data))\n",
    "    img_bytes = BytesIO()  \n",
    "    pil_im.save(img_bytes, format='png')\n",
    "    BD_thumb.value = \"<img src='data:image/png;base64,{0}' width=200, height=200/>\".format(b64encode(img_bytes.getvalue()).decode('utf-8'))\n",
    "\n",
    "projects = list(conn.getObjects(\"Project\",\n",
    "                               opts={'owner': conn.getUser().getId(),\n",
    "                                     'group': conn.getEventContext().groupId,\n",
    "                                     'order_by': 'lower(obj.name)'}))\n",
    "projectTupels = [(project.getName(), project.getId()) for project in projects]\n",
    "\n",
    "BD_project = widgets.Dropdown(\n",
    "       continuous_update=True,\n",
    "       options=projectTupels,\n",
    "       value=projectTupels[0][1],\n",
    "       description='project:')\n",
    "\n",
    "BD_dataset = widgets.Dropdown(\n",
    "       description='dataset:')\n",
    "\n",
    "BD_image = widgets.Select(\n",
    "       description='image:') \n",
    "\n",
    "BD_thumb = widgets.HTML(\"\") \n",
    "\n",
    "on_project_change({'new':0})\n",
    "on_dataset_change({'new':0})\n",
    "on_image_change({'new':0})\n",
    "\n",
    "BD_left = widgets.VBox([BD_project, BD_image])\n",
    "BD_right = widgets.VBox([BD_dataset, BD_thumb, CD_layout])\n",
    "BD_right.layout.align_items = 'flex-end'\n",
    "BD_all = widgets.HBox([BD_left, BD_right])\n",
    "BD_project.observe(on_project_change, names=\"index\")\n",
    "BD_dataset.observe(on_dataset_change, names=\"index\")\n",
    "BD_image.observe(on_image_change, names=\"index\")\n",
    "display(BD_all)\n"
   ]
  },
  {
   "cell_type": "markdown",
   "metadata": {},
   "source": [
    "# <center> Polyglot example: download the images of the selected dataset </center>"
   ]
  },
  {
   "cell_type": "markdown",
   "metadata": {},
   "source": [
    "We first delete the ``tmp``-folder and its content if it exists and then create it again. We use shell commands to do this. When a line starts with an exclamation mark (bang), it is not interpreted as python but executed as a shell command. We use the PIL-library again, this time to save the images to the local ``tmp``-folder."
   ]
  },
  {
   "cell_type": "code",
   "execution_count": 7,
   "metadata": {},
   "outputs": [
    {
     "data": {
      "application/vnd.jupyter.widget-view+json": {
       "model_id": "56d3d8a1ce234f0a8ae396068c8b44d9",
       "version_major": 2,
       "version_minor": 0
      },
      "text/plain": [
       "VBox(children=(Button(description='Download dataset', style=ButtonStyle()), Label(value='Status: waiting...', …"
      ]
     },
     "metadata": {},
     "output_type": "display_data"
    }
   ],
   "source": [
    "%%python\n",
    "!rm -rf ./tmp\n",
    "!mkdir -p ./tmp\n",
    "\n",
    "DD_download_button = widgets.Button(\n",
    "    description = 'Download dataset' \n",
    ")\n",
    "DD_status = widgets.Label(\n",
    "    description = \"status\",\n",
    "    value = \"Status: waiting...\"\n",
    ")\n",
    "\n",
    "def on_download_button_clicked(b): \n",
    "    counter = 1\n",
    "    for image in images:\n",
    "        newStatus = \"Status: downloading image \" + str(counter) + \" of \" + str(len(images))\n",
    "        DD_status.value = newStatus\n",
    "        pixels = image.getPrimaryPixels()\n",
    "        plane = pixels.getPlane()\n",
    "        nucleiImage = pImage.fromarray(plane)\n",
    "        nucleiImage.save('./tmp/'+image.getName(), save_all=True)\n",
    "        counter = counter + 1\n",
    "    DD_status.value = \"Status: successfully downloaded \" + str(counter-1) + \" images.\"\n",
    "DD_download_button.on_click(on_download_button_clicked)\n",
    "\n",
    "DD = widgets.VBox([DD_download_button, DD_status])\n",
    "display(DD)"
   ]
  },
  {
   "cell_type": "markdown",
   "metadata": {},
   "source": [
    "We check the content of the ``tmp``-folder.\n",
    "\n",
    "The 'ls' shell command lists the content of a folder. The options ``alh`` stand for: ``all``, ``long list format`` and ``human readable``. The ``h`` means that the file sizes will be displayed in Mega- and Gigabyte instead of Bytes."
   ]
  },
  {
   "cell_type": "code",
   "execution_count": 11,
   "metadata": {},
   "outputs": [
    {
     "name": "stdout",
     "output_type": "stream",
     "text": [
      "total 13M\n",
      "drwxr-xr-x 2 jovyan users 4.0K Jan 29 23:17 .\n",
      "drwxr-xr-x 4 jovyan users 4.0K Jan 29 23:41 ..\n",
      "-rw-r--r-- 1 jovyan users 2.1M Jan 29 23:16 gwlmabrp875gwlv1_w3Hoechst.TIF\n",
      "-rw-r--r-- 1 jovyan users 2.1M Jan 29 23:16 gwlmabrp875gwlv2_w3Hoechst.TIF\n",
      "-rw-r--r-- 1 jovyan users 2.1M Jan 29 23:16 gwlmabrp875gwlv3_w3Hoechst.TIF\n",
      "-rw-r--r-- 1 jovyan users 2.1M Jan 29 23:16 gwlmabrp875gwlv4_w3Hoechst.TIF\n",
      "-rw-r--r-- 1 jovyan users 2.1M Jan 29 23:16 gwlmabrp875gwlv5_w3Hoechst.TIF\n",
      "-rw-r--r-- 1 jovyan users 2.1M Jan 29 23:17 gwlmabrp875gwlv_w3Hoechst.TIF\n",
      "-rw-r--r-- 1 jovyan users 1.3K Jan 29 23:17 macro.ijm\n"
     ]
    }
   ],
   "source": [
    "%%python\n",
    "!ls -alh ./tmp"
   ]
  },
  {
   "cell_type": "markdown",
   "metadata": {},
   "source": [
    "Here is the ImageJ-macro that will do the analysis. It works as follows:\n",
    "\n",
    "* threshold the image\n",
    "* scale it down \n",
    "* apply a binary watershed (and fill the holes in the mask)\n",
    "* scale it up to the original size\n",
    "* analyze the particles\n",
    "* write the results table to the ``out``-subfolder of the ``tmp``-folder \n",
    "\n",
    "The ``%%writefile``-cell-magic writes the content of the cell to a file. We will later read it in from that file and execute it."
   ]
  },
  {
   "cell_type": "code",
   "execution_count": 9,
   "metadata": {},
   "outputs": [
    {
     "name": "stdout",
     "output_type": "stream",
     "text": [
      "Writing /home/jovyan/notebooks/volker/tmp/macro.ijm\n"
     ]
    }
   ],
   "source": [
    "%%python\n",
    "%%writefile /home/jovyan/notebooks/volker/tmp/macro.ijm\n",
    "SCALE_FACTOR = 5;\n",
    "arg = getArgument();\n",
    "parts = split(arg, \",\");\n",
    "\n",
    "for(i=0; i<parts.length; i++) {\n",
    "\tnameAndValue = split(parts[i], \"=\");\n",
    "\tif (indexOf(nameAndValue[0], \"input\")>-1) inputPath=nameAndValue[1];\n",
    "\tif (indexOf(nameAndValue[0], \"scale_factor\")>-1) SCALE_FACTOR=nameAndValue[1];\n",
    "}\n",
    "open(inputPath);\n",
    "title = getTitle();\n",
    "run(\"Set Measurements...\", \"area mean modal min centroid perimeter bounding fit shape feret's integrated median skewness kurtosis area_fraction display redirect=\"+title+\" decimal=9\");\n",
    "width = getWidth();\n",
    "height = getHeight();\n",
    "run(\"Scale...\", \"x=\"+(1.0/SCALE_FACTOR)+\" y=\"+(1.0/SCALE_FACTOR)+\" interpolation=Bilinear create title=small_tmp\");\n",
    "setAutoThreshold(\"Huang dark\");\n",
    "run(\"Convert to Mask\");\n",
    "run(\"Fill Holes\");\n",
    "run(\"Watershed\");\n",
    "run(\"Scale...\", \"x=- y=- width=\"+width+\" height=\"+height+\" interpolation=Bilinear create title=big_tmp\");\n",
    "setAutoThreshold(\"Huang dark\");\n",
    "roiManager(\"Reset\");\n",
    "run(\"Analyze Particles...\", \"size=0-Infinity circularity=0.00-1.00 show=Overlay exclude display in_situ\");\n",
    "Overlay.copy;\n",
    "close();\n",
    "close();\n",
    "Overlay.paste;\n",
    "if (!File.exists(File.directory + \"/out\")) File.makeDirectory(File.directory + \"/out\");\n",
    "save(File.directory + \"/out/\" + File.name);\n",
    "run(\"Close All\");\n",
    "saveAs(\"results\", File.directory + \"/out/results.csv\");\n",
    "print(\"Done!\");"
   ]
  },
  {
   "cell_type": "markdown",
   "metadata": {},
   "source": [
    "We will now switch from ``python`` to ``groovy``, which allows us to access the ImageJ-library to execute a macro. \n",
    "\n",
    "To be able to use the ImageJ-library we add the FIJI-jars and the jars of the plugins to the classpath of the java-virtual-machine. The ``%classpath magic`` does the job."
   ]
  },
  {
   "cell_type": "code",
   "execution_count": 10,
   "metadata": {},
   "outputs": [
    {
     "data": {
      "application/vnd.jupyter.widget-view+json": {
       "model_id": "41f534d9-759f-4c9a-91eb-c3c15576437c",
       "version_major": 2,
       "version_minor": 0
      },
      "method": "display_data"
     },
     "metadata": {},
     "output_type": "display_data"
    },
    {
     "data": {
      "application/vnd.jupyter.widget-view+json": {
       "model_id": "2368520c-69e0-49e9-a28d-fb8f4b82a5af",
       "version_major": 2,
       "version_minor": 0
      },
      "method": "display_data"
     },
     "metadata": {},
     "output_type": "display_data"
    }
   ],
   "source": [
    "//Add dependencies to the classpath\n",
    "%classpath add jar /opt/java-apps/Fiji.app/jars/*\n",
    "%classpath add jar /opt/java-apps/Fiji.app/plugins/*"
   ]
  },
  {
   "cell_type": "markdown",
   "metadata": {},
   "source": [
    "We will now read the macro from the file and run it.\n",
    "\n",
    "* We import the IJ-class from the package ij. \n",
    "* We just run the macro on one image now. We will do it in a loop on all images in the ``tmp``-folder later.\n",
    "* We pass the path to the image and the scale-factor that will be used by the macro as parameters when running the macro.\n",
    "* The content of the results-table will be displayed as output of the cell. However the macro also writes it to a file."
   ]
  },
  {
   "cell_type": "code",
   "execution_count": 12,
   "metadata": {},
   "outputs": [
    {
     "name": "stdout",
     "output_type": "stream",
     "text": [
      " \tLabel\tArea\tMean\tMode\tMin\tMax\tX\tY\tPerim.\tBX\tBY\tWidth\tHeight\tMajor\tMinor\tAngle\tCirc.\tFeret\tIntDen\tMedian\tSkew\tKurt\t%Area\tRawIntDen\tFeretX\tFeretY\tFeretAngle\tMinFeret\tAR\tRound\tSolidity\n",
      "1\tgwlmabrp875gwlv5_w3Hoechst.TIF\t10202\t10353.091550676\t9419\t4331\t16380\t337.330915507\t106.035287199\t394.232539419\t283\t38\t107\t132\t143.838261445\t90.306916288\t56.924610040\t0.824879002\t147.299015611\t105622240\t10180\t-0.112429016\t-0.168288041\t100\t105622240\t295\t165\t55.231043445\t93.400000000\t1.592771267\t0.627836539\t0.961772331\n",
      "2\tgwlmabrp875gwlv5_w3Hoechst.TIF\t13999\t7954.662118723\t8315\t4214\t11074\t701.671512251\t150.813736695\t461.303607231\t643\t73\t117\t157\t163.217578166\t109.204416504\t112.544186534\t0.826671902\t167.026943934\t111357315\t7994\t-0.282783709\t0.479401828\t100\t111357315\t670\t73\t109.953799220\t112.697826066\t1.494606019\t0.669072644\t0.970400665\n",
      "3\tgwlmabrp875gwlv5_w3Hoechst.TIF\t71\t6062.774647887\t4590\t4590\t7554\t181.514084507\t99.077464789\t30.970562748\t178\t93\t7\t12\t12.054813108\t7.499079983\t89.201968071\t0.930186472\t12.369316877\t430457\t5923\t0.285455800\t-0.882668122\t100\t430457\t180\t105\t75.963756532\t7.000000000\t1.607505605\t0.622081812\t0.940397351\n",
      "4\tgwlmabrp875gwlv5_w3Hoechst.TIF\t13578\t13299.361540728\t13086\t4341\t27052\t408.560686404\t318.547650611\t458.960461481\t353\t233\t107\t167\t169.976907291\t101.708207391\t81.717314015\t0.810018842\t171.268794589\t180578731\t13332\t-0.240420140\t-0.154491037\t100\t180578731\t390\t400\t77.180905835\t105.303846084\t1.671221150\t0.598364854\t0.967990304\n",
      "5\tgwlmabrp875gwlv5_w3Hoechst.TIF\t16236\t11466.563254496\t11957\t4343\t20008\t606.630327667\t401.239837398\t500.173664916\t543\t318\t127\t172\t183.847744185\t112.442593952\t114.362054472\t0.815543749\t186.461792333\t186171121\t11793\t-0.403789888\t0.236031620\t100\t186171121\t565\t318\t112.714412353\t114.486680448\t1.635036490\t0.611607145\t0.969863505\n",
      "6\tgwlmabrp875gwlv5_w3Hoechst.TIF\t10978\t10910.181727091\t11356\t4497\t17426\t188.992439424\t404.956549463\t407.747258045\t143\t328\t92\t152\t150.575157239\t92.828219332\t89.093316598\t0.829757128\t153.583853318\t119771975\t11207\t-0.636026320\t0.413768197\t100\t119771975\t176\t480\t81.764380676\t92.000000000\t1.622083870\t0.616490934\t0.969616675\n",
      "7\tgwlmabrp875gwlv5_w3Hoechst.TIF\t6850\t10757.123503650\t10300\t4435\t19361\t52.538394161\t445.260437956\t335.320851174\t3\t393\t92\t107\t104.642463606\t83.347530064\t67.579637304\t0.765560144\t109.713262644\t73686296\t10807\t0.045647142\t0.210374070\t100\t73686296\t4\t474\t42.414205658\t83.484130228\t1.255495676\t0.796498163\t0.941257300\n",
      "8\tgwlmabrp875gwlv5_w3Hoechst.TIF\t13574\t10094.738323265\t10113\t3969\t16254\t826.961691469\t569.026079269\t450.173664916\t767\t493\t122\t152\t160.566255431\t107.637520311\t60.471631709\t0.841700409\t162.828130248\t137025978\t10296\t-0.736043485\t1.081296101\t100\t137025978\t780\t635\t57.285916081\t111.200000000\t1.491731275\t0.670362026\t0.965880386\n",
      "9\tgwlmabrp875gwlv5_w3Hoechst.TIF\t10602\t10408.368043765\t9952\t4121\t15600\t106.021599698\t601.367100547\t405.404112295\t48\t538\t117\t127\t147.472383932\t91.535006714\t128.378298363\t0.810627559\t150.206524492\t110349518\t10634\t-0.534232189\t0.034269010\t100\t110349518\t60\t543\t126.335864567\t91.923881554\t1.611103656\t0.620692527\t0.970479198\n",
      "10\tgwlmabrp875gwlv5_w3Hoechst.TIF\t14550\t11905.511477663\t11956\t4034\t19155\t413.078625430\t621.025017182\t484.315800540\t348\t543\t132\t162\t172.841221021\t107.182969817\t59.051900210\t0.779499034\t175.276923752\t173225192\t12484\t-0.790256825\t0.228033852\t100\t173225192\t374\t699\t59.484733560\t110.014544493\t1.612581003\t0.620123887\t0.962015273\n",
      "11\tgwlmabrp875gwlv5_w3Hoechst.TIF\t12371\t9002.570042842\t9613\t3886\t14104\t148.165750546\t792.613733732\t447.587878479\t73\t728\t147\t126\t162.119515057\t97.158237874\t34.989436107\t0.775993419\t164.124952399\t111370794.000000010\t9068\t-0.337108752\t0.629242569\t100\t111370794.000000010\t73\t832\t30.784146526\t98.994949366\t1.668613168\t0.599300077\t0.963773761\n",
      "12\tgwlmabrp875gwlv5_w3Hoechst.TIF\t10896\t9325.459618209\t9005\t3874\t13571\t681.410792952\t775.247522026\t421.060966544\t598\t728\t162\t91\t164.238739128\t84.469828209\t15.495352373\t0.772301703\t167.355908172\t101610208.000000000\t9555\t-0.756974814\t0.707724209\t100\t101610208.000000000\t598\t793\t14.534455081\t89.492457783\t1.944347971\t0.514311232\t0.970171846\n",
      "Done!\n"
     ]
    },
    {
     "data": {
      "text/plain": [
       "null"
      ]
     },
     "execution_count": 12,
     "metadata": {},
     "output_type": "execute_result"
    }
   ],
   "source": [
    "import ij.IJ\n",
    "import static groovy.io.FileType.FILES\n",
    "scaleFactor = 5\n",
    "\n",
    "macro = new File('/home/jovyan/notebooks/volker/tmp/macro.ijm').text\n",
    "\n",
    "def dir = new File(\"/home/jovyan/notebooks/volker/tmp\");\n",
    "def files = [];\n",
    "dir.traverse(type: FILES, maxDepth: 0) { if (it.getName().contains(\".TIF\")) files.add(it) };\n",
    "file = files[0]\n",
    "args = \"input=\"+file.getPath()+\", scale_factor=\"+scaleFactor\n",
    "IJ.runMacro('run(\"Clear Results\");', \"\")\n",
    "answer = IJ.runMacro(macro, args)"
   ]
  },
  {
   "cell_type": "markdown",
   "metadata": {},
   "source": [
    "We check the content of the output folder. It should contain the control-output-image with the rois of the detected nuclei as overlay and the results table as a csv-file. You can use the jupyter-lab filebrowser to check the content of the files."
   ]
  },
  {
   "cell_type": "code",
   "execution_count": 13,
   "metadata": {},
   "outputs": [
    {
     "name": "stdout",
     "output_type": "stream",
     "text": [
      "gwlmabrp875gwlv5_w3Hoechst.tif\tresults.csv\n"
     ]
    }
   ],
   "source": [
    "%%python\n",
    "!ls ./tmp/out"
   ]
  },
  {
   "cell_type": "markdown",
   "metadata": {},
   "source": [
    "We read in the csv-file and display it as an interactive table. \n",
    "\n",
    "Now let's play with the table a bit.\n",
    "\n",
    "* This is done using the ``Python Data Analysis Library (pandas)`` library under the hood, however BeakerX facilitates the usage of pandas and makes the table interactive.\n",
    "* Put the ``IntDen``-column next to the ``Mean``-column, by using drag-and-drop!\n",
    "* Sort the table by ``Area``, by clicking on the label of the area-column!\n",
    "* Display only the columns ``index, area, mean`` and ``IntDen``, by using the menu that opens when clicking in the upper-left corner!\n",
    "* Resize the table (as you would do with a window) and the width of the columns!\n",
    "* Display a heatmap of the area-values via the menu from the upper-left corner of the area-label-cell!\n",
    "* Display data-bars in the IntDen-column!\n",
    "* Filter the data by the occurence of a substring in a column or by expressions. You can use the column names and $ for the current column in expressions!\n",
    "* Export the table to excel!"
   ]
  },
  {
   "cell_type": "code",
   "execution_count": 14,
   "metadata": {},
   "outputs": [
    {
     "data": {
      "application/vnd.jupyter.widget-view+json": {
       "model_id": "68d269b9-91f3-4880-975d-4b4ff491620a",
       "version_major": 2,
       "version_minor": 0
      },
      "method": "display_data"
     },
     "metadata": {},
     "output_type": "display_data"
    }
   ],
   "source": [
    "csv = new CSV().read(\"/home/jovyan/notebooks/volker/tmp/out/results.csv\")"
   ]
  },
  {
   "cell_type": "markdown",
   "metadata": {},
   "source": [
    "Access a value in the table"
   ]
  },
  {
   "cell_type": "code",
   "execution_count": 15,
   "metadata": {},
   "outputs": [
    {
     "data": {
      "text/plain": [
       "13578"
      ]
     },
     "execution_count": 15,
     "metadata": {},
     "output_type": "execute_result"
    }
   ],
   "source": [
    "csv[3][\"Area\"]"
   ]
  },
  {
   "cell_type": "markdown",
   "metadata": {},
   "source": [
    "Access a row in the table"
   ]
  },
  {
   "cell_type": "code",
   "execution_count": 16,
   "metadata": {},
   "outputs": [
    {
     "data": {
      "application/vnd.jupyter.widget-view+json": {
       "model_id": "c4dea1b2-26cd-4a83-a449-4eb70bc73580",
       "version_major": 2,
       "version_minor": 0
      },
      "method": "display_data"
     },
     "metadata": {},
     "output_type": "display_data"
    }
   ],
   "source": [
    "csv[3]"
   ]
  },
  {
   "cell_type": "markdown",
   "metadata": {},
   "source": [
    "Access a column in the table"
   ]
  },
  {
   "cell_type": "code",
   "execution_count": 17,
   "metadata": {},
   "outputs": [
    {
     "data": {
      "text/plain": [
       "[10202, 13999, 71, 13578, 16236, 10978, 6850, 13574, 10602, 14550, 12371, 10896]"
      ]
     },
     "execution_count": 17,
     "metadata": {},
     "output_type": "execute_result"
    }
   ],
   "source": [
    "csv[\"Area\"]"
   ]
  },
  {
   "cell_type": "markdown",
   "metadata": {},
   "source": [
    "# Plots and histograms"
   ]
  },
  {
   "cell_type": "markdown",
   "metadata": {},
   "source": [
    "To make it more interesting we first create more data, by applying the macro to all images in the dataset."
   ]
  },
  {
   "cell_type": "code",
   "execution_count": 18,
   "metadata": {},
   "outputs": [
    {
     "name": "stdout",
     "output_type": "stream",
     "text": [
      " \tLabel\tArea\tMean\tMode\tMin\tMax\tX\tY\tPerim.\tBX\tBY\tWidth\tHeight\tMajor\tMinor\tAngle\tCirc.\tFeret\tIntDen\tMedian\tSkew\tKurt\t%Area\tRawIntDen\tFeretX\tFeretY\tFeretAngle\tMinFeret\tAR\tRound\tSolidity\n",
      "1\tgwlmabrp875gwlv5_w3Hoechst.TIF\t10202\t10353.091550676\t9419\t4331\t16380\t337.330915507\t106.035287199\t394.232539419\t283\t38\t107\t132\t143.838261445\t90.306916288\t56.924610040\t0.824879002\t147.299015611\t105622240\t10180\t-0.112429016\t-0.168288041\t100\t105622240\t295\t165\t55.231043445\t93.400000000\t1.592771267\t0.627836539\t0.961772331\n",
      "2\tgwlmabrp875gwlv5_w3Hoechst.TIF\t13999\t7954.662118723\t8315\t4214\t11074\t701.671512251\t150.813736695\t461.303607231\t643\t73\t117\t157\t163.217578166\t109.204416504\t112.544186534\t0.826671902\t167.026943934\t111357315\t7994\t-0.282783709\t0.479401828\t100\t111357315\t670\t73\t109.953799220\t112.697826066\t1.494606019\t0.669072644\t0.970400665\n",
      "3\tgwlmabrp875gwlv5_w3Hoechst.TIF\t71\t6062.774647887\t4590\t4590\t7554\t181.514084507\t99.077464789\t30.970562748\t178\t93\t7\t12\t12.054813108\t7.499079983\t89.201968071\t0.930186472\t12.369316877\t430457\t5923\t0.285455800\t-0.882668122\t100\t430457\t180\t105\t75.963756532\t7.000000000\t1.607505605\t0.622081812\t0.940397351\n",
      "4\tgwlmabrp875gwlv5_w3Hoechst.TIF\t13578\t13299.361540728\t13086\t4341\t27052\t408.560686404\t318.547650611\t458.960461481\t353\t233\t107\t167\t169.976907291\t101.708207391\t81.717314015\t0.810018842\t171.268794589\t180578731\t13332\t-0.240420140\t-0.154491037\t100\t180578731\t390\t400\t77.180905835\t105.303846084\t1.671221150\t0.598364854\t0.967990304\n",
      "5\tgwlmabrp875gwlv5_w3Hoechst.TIF\t16236\t11466.563254496\t11957\t4343\t20008\t606.630327667\t401.239837398\t500.173664916\t543\t318\t127\t172\t183.847744185\t112.442593952\t114.362054472\t0.815543749\t186.461792333\t186171121\t11793\t-0.403789888\t0.236031620\t100\t186171121\t565\t318\t112.714412353\t114.486680448\t1.635036490\t0.611607145\t0.969863505\n",
      "6\tgwlmabrp875gwlv5_w3Hoechst.TIF\t10978\t10910.181727091\t11356\t4497\t17426\t188.992439424\t404.956549463\t407.747258045\t143\t328\t92\t152\t150.575157239\t92.828219332\t89.093316598\t0.829757128\t153.583853318\t119771975\t11207\t-0.636026320\t0.413768197\t100\t119771975\t176\t480\t81.764380676\t92.000000000\t1.622083870\t0.616490934\t0.969616675\n",
      "7\tgwlmabrp875gwlv5_w3Hoechst.TIF\t6850\t10757.123503650\t10300\t4435\t19361\t52.538394161\t445.260437956\t335.320851174\t3\t393\t92\t107\t104.642463606\t83.347530064\t67.579637304\t0.765560144\t109.713262644\t73686296\t10807\t0.045647142\t0.210374070\t100\t73686296\t4\t474\t42.414205658\t83.484130228\t1.255495676\t0.796498163\t0.941257300\n",
      "8\tgwlmabrp875gwlv5_w3Hoechst.TIF\t13574\t10094.738323265\t10113\t3969\t16254\t826.961691469\t569.026079269\t450.173664916\t767\t493\t122\t152\t160.566255431\t107.637520311\t60.471631709\t0.841700409\t162.828130248\t137025978\t10296\t-0.736043485\t1.081296101\t100\t137025978\t780\t635\t57.285916081\t111.200000000\t1.491731275\t0.670362026\t0.965880386\n",
      "9\tgwlmabrp875gwlv5_w3Hoechst.TIF\t10602\t10408.368043765\t9952\t4121\t15600\t106.021599698\t601.367100547\t405.404112295\t48\t538\t117\t127\t147.472383932\t91.535006714\t128.378298363\t0.810627559\t150.206524492\t110349518\t10634\t-0.534232189\t0.034269010\t100\t110349518\t60\t543\t126.335864567\t91.923881554\t1.611103656\t0.620692527\t0.970479198\n",
      "10\tgwlmabrp875gwlv5_w3Hoechst.TIF\t14550\t11905.511477663\t11956\t4034\t19155\t413.078625430\t621.025017182\t484.315800540\t348\t543\t132\t162\t172.841221021\t107.182969817\t59.051900210\t0.779499034\t175.276923752\t173225192\t12484\t-0.790256825\t0.228033852\t100\t173225192\t374\t699\t59.484733560\t110.014544493\t1.612581003\t0.620123887\t0.962015273\n",
      "11\tgwlmabrp875gwlv5_w3Hoechst.TIF\t12371\t9002.570042842\t9613\t3886\t14104\t148.165750546\t792.613733732\t447.587878479\t73\t728\t147\t126\t162.119515057\t97.158237874\t34.989436107\t0.775993419\t164.124952399\t111370794.000000010\t9068\t-0.337108752\t0.629242569\t100\t111370794.000000010\t73\t832\t30.784146526\t98.994949366\t1.668613168\t0.599300077\t0.963773761\n",
      "12\tgwlmabrp875gwlv5_w3Hoechst.TIF\t10896\t9325.459618209\t9005\t3874\t13571\t681.410792952\t775.247522026\t421.060966544\t598\t728\t162\t91\t164.238739128\t84.469828209\t15.495352373\t0.772301703\t167.355908172\t101610208.000000000\t9555\t-0.756974814\t0.707724209\t100\t101610208.000000000\t598\t793\t14.534455081\t89.492457783\t1.944347971\t0.514311232\t0.970171846\n",
      "Done!\n",
      "13\tgwlmabrp875gwlv2_w3Hoechst.TIF\t16779\t8396.456999821\t8241\t4274\t12661\t417.981375529\t154.246587997\t494.901586978\t338\t88\t162\t137\t164.877760379\t129.572880369\t18.577189861\t0.860871331\t167.355908172\t140884152.000000000\t8403\t-0.335838221\t1.264268289\t100\t140884152.000000000\t338\t173\t14.534455081\t131.700352158\t1.272471214\t0.785872395\t0.967814501\n",
      "14\tgwlmabrp875gwlv2_w3Hoechst.TIF\t16562\t8468.641408043\t8293\t4101\t15249\t798.091232943\t295.229501268\t495.244732728\t713\t228\t166\t132\t176.235833559\t119.654402366\t26.894435355\t0.848560700\t179.108905418\t140257639.000000000\t8291\t0.334690676\t1.681603817\t100\t140257639.000000000\t718\t338\t29.427456403\t123.430952358\t1.472873794\t0.678944798\t0.969445095\n",
      "15\tgwlmabrp875gwlv2_w3Hoechst.TIF\t13465\t13078.072781285\t11675\t4299\t24624\t467.925102117\t326.031674712\t459.002092041\t398\t253\t137\t142\t165.462020101\t103.613931822\t46.550887203\t0.803131929\t167.263265543\t176096250.000000000\t13302\t0.019566335\t-0.728208567\t100\t176096250.000000000\t420\t395\t51.554180590\t106.066017178\t1.596908999\t0.626209760\t0.962714046\n",
      "16\tgwlmabrp875gwlv2_w3Hoechst.TIF\t7890\t14550.586818758\t12282\t4317\t25652\t218.183650190\t369.493916350\t353.605122421\t163\t318\t107\t107\t127.360584311\t78.877307782\t133.503948226\t0.792957246\t130.969462089\t114804130.000000000\t15132\t-0.348554536\t-0.634411973\t100\t114804130.000000000\t168\t325\t137.785166422\t84.852813742\t1.614666980\t0.619322754\t0.952668438\n",
      "17\tgwlmabrp875gwlv2_w3Hoechst.TIF\t7459\t13692.807078697\t15591\t4560\t23180\t810.584729857\t477.551481432\t333.320851174\t768\t423\t86\t112\t117.599765323\t80.757761192\t110.262282158\t0.843656208\t119.970829788\t102134648.000000000\t14020\t-0.403929427\t-0.330621856\t100\t102134648.000000000\t789\t423\t111.003222711\t83.181728763\t1.456203882\t0.686717027\t0.962886465\n",
      "18\tgwlmabrp875gwlv2_w3Hoechst.TIF\t12738\t9598.004788821\t9750\t4053\t15662\t399.638640289\t487.748783168\t513.563491861\t298\t448\t207\t82\t217.833293382\t74.453840683\t5.960606911\t0.606907944\t211.217896969\t122259385.000000010\t9726\t-0.410491723\t1.227877311\t100\t122259385.000000010\t298\t513\t11.469530333\t75.420633186\t2.925749584\t0.341792751\t0.942055245\n",
      "19\tgwlmabrp875gwlv2_w3Hoechst.TIF\t16868\t12388.869634811\t13527\t4016\t21446\t449.231325587\t596.571674176\t506.658946291\t363\t538\t177\t122\t180.701541518\t118.853466662\t11.704821117\t0.825737533\t184.480351257\t208975453.000000000\t12514\t-0.293914992\t0.178413185\t100\t208975453.000000000\t363\t618\t16.372013330\t122.000000000\t1.520372494\t0.657733551\t0.964298985\n",
      "20\tgwlmabrp875gwlv2_w3Hoechst.TIF\t8810\t12045.544948922\t13517\t4049\t19748\t624.455164586\t704.755732123\t359.847763109\t573\t648\t102\t116\t127.390472736\t88.053997667\t55.981687737\t0.854964649\t129.274900890\t106121251.000000010\t12366\t-0.341303372\t-0.498577887\t100\t106121251.000000010\t589\t759\t55.080597988\t90.416131985\t1.446731280\t0.691213368\t0.963526002\n",
      "21\tgwlmabrp875gwlv2_w3Hoechst.TIF\t67\t6211.537313433\t5422\t3761\t9527\t706.261194030\t758.500000000\t30.142135624\t703\t753\t7\t11\t11.619829499\t7.341506130\t90.000000000\t0.926694590\t11.704699911\t416173.000000000\t5843\t0.365229687\t-1.016321558\t100\t416173.000000000\t704\t753\t109.983106522\t7.000000000\t1.582758264\t0.631808421\t0.943661972\n",
      "22\tgwlmabrp875gwlv2_w3Hoechst.TIF\t14116\t13177.429016719\t15821\t4042\t23469\t223.600878436\t828.954448852\t462.315800540\t148\t763\t152\t131\t165.264333128\t108.753347279\t32.869331700\t0.829934925\t168.190368333\t186012588.000000000\t13287\t-0.071033643\t-0.517399177\t100\t186012588.000000000\t148\t862\t25.346175942\t110.910990382\t1.519625255\t0.658056976\t0.961809696\n",
      "23\tgwlmabrp875gwlv2_w3Hoechst.TIF\t13721\t8677.399752205\t8646\t4010\t13154\t754.791086655\t854.602689308\t455.587878479\t688\t783\t131\t146\t158.239579770\t110.402971360\t53.326080043\t0.830713574\t161.623018163\t119062602.000000000\t8701\t-0.271171894\t1.330904402\t100\t119062602.000000000\t714\t924\t60.738801437\t115.200000000\t1.433290951\t0.697695049\t0.956900760\n",
      "Done!\n",
      "24\tgwlmabrp875gwlv1_w3Hoechst.TIF\t17456\t8615.266727773\t8000\t4103\t14965\t208.168939047\t188.892701650\t504.315800540\t138\t108\t137\t162\t162.579303321\t136.706635093\t88.118515996\t0.862480822\t166.171598055\t150388096.000000000\t8518\t-0.063328065\t0.604663374\t100\t150388096.000000000\t190\t270\t77.134602158\t137.000000000\t1.189256858\t0.840861243\t0.971613047\n",
      "25\tgwlmabrp875gwlv1_w3Hoechst.TIF\t14608\t9129.840019168\t9267\t3864\t17276\t926.899301752\t191.698726725\t469.587878479\t857\t123\t147\t137\t159.195591552\t116.834160344\t144.620816958\t0.832466697\t161.987653851\t133368703.000000000\t9230\t0.038054770\t0.503298025\t100\t133368703.000000000\t863\t140\t147.094757077\t118.958816403\t1.362577444\t0.733903239\t0.966808961\n",
      "26\tgwlmabrp875gwlv1_w3Hoechst.TIF\t14282\t8961.265368996\t8970\t4022\t14552\t688.001610419\t270.634715026\t486.457936164\t598\t208\t166\t132\t189.203956963\t96.110078615\t145.166582648\t0.758417433\t195.358644549\t127984792.000000000\t9091\t-0.358147126\t0.602752733\t100\t127984792.000000000\t598\t220\t148.181146072\t101.800000000\t1.968617232\t0.507970764\t0.964739260\n",
      "27\tgwlmabrp875gwlv1_w3Hoechst.TIF\t14631\t9792.134987356\t9190\t4226\t18214\t80.842902057\t333.893752990\t481.303607231\t28\t243\t107\t177\t176.744740637\t105.399276447\t82.688987849\t0.793680374\t179.869397064\t143268727.000000000\t9787\t0.016882868\t0.572506680\t100\t143268727.000000000\t61\t420\t79.752135889\t107.000000000\t1.676906584\t0.596336140\t0.969518256\n",
      "28\tgwlmabrp875gwlv1_w3Hoechst.TIF\t14452\t9515.606905619\t9216\t4027\t18565\t403.411915306\t352.998823692\t483.730014102\t323\t283\t157\t132\t167.137865489\t110.093890733\t34.512213426\t0.776125132\t172.284648184\t137519551.000000000\t9487\t0.091773824\t0.975458979\t100\t137519551.000000000\t328\t398\t35.073754493\t113.990890324\t1.518139330\t0.658701069\t0.959564438\n",
      "29\tgwlmabrp875gwlv1_w3Hoechst.TIF\t101\t6498.564356436\t4736\t4407\t8660\t23.321782178\t294.856435644\t38.041630560\t18\t288\t12\t12\t13.379636799\t9.611411427\t136.375627327\t0.877027054\t14.212670404\t656355.000000000\t6545\t-0.032797135\t-1.478368562\t100\t656355.000000000\t19\t289\t129.289406863\t10.606601718\t1.392057441\t0.718361161\t0.905829596\n",
      "30\tgwlmabrp875gwlv1_w3Hoechst.TIF\t15000\t8805.471133333\t8803\t4107\t15669\t909.221400000\t485.691533333\t482.516810667\t852\t403\t112\t177\t174.222784941\t109.621673064\t99.835108425\t0.809610675\t181.686543255\t132082066.999999990\t8896\t0.131361345\t0.857461779\t100\t132082066.999999990\t885\t403\t103.041890527\t112.000000000\t1.589309669\t0.629203999\t0.968585542\n",
      "31\tgwlmabrp875gwlv1_w3Hoechst.TIF\t20319\t9962.338402480\t9906\t4092\t16414\t568.728062405\t492.919065899\t547.872149726\t478\t423\t187\t142\t194.544013129\t132.982526131\t23.011698919\t0.850655562\t197.010152023\t202424754.000000000\t10024\t-0.590229437\t1.312482602\t100\t202424754.000000000\t478\t528\t18.342981359\t134.611292245\t1.462929144\t0.683560105\t0.976429035\n",
      "32\tgwlmabrp875gwlv1_w3Hoechst.TIF\t13968\t9292.804911226\t9194\t3888\t15906\t344.125572738\t528.322737686\t474.901586978\t263\t463\t157\t127\t166.688803201\t106.693488821\t31.256734119\t0.778281753\t174.928556845\t129801899.000000010\t9534\t-0.577708702\t0.754212324\t100\t129801899.000000010\t269\t574\t30.963756532\t111.935776129\t1.562314674\t0.640075919\t0.957729096\n",
      "33\tgwlmabrp875gwlv1_w3Hoechst.TIF\t14681\t8976.901982154\t9154\t4002\t13487\t133.272154485\t629.463081534\t501.688383542\t73\t538\t117\t181\t192.530598745\t97.088098609\t69.107731009\t0.732988924\t195.166595502\t131789898.000000000\t9164\t-0.710339268\t0.681577404\t100\t131789898.000000000\t90\t719\t68.035044489\t100.560429593\t1.983050461\t0.504273602\t0.960327065\n",
      "34\tgwlmabrp875gwlv1_w3Hoechst.TIF\t19639\t10901.097866490\t10878\t3728\t17814\t618.697464229\t638.766052243\t535.830519166\t548\t548\t137\t181\t180.580295226\t138.471096128\t87.775654005\t0.859556329\t183.308483164\t214086661.000000000\t11051\t-0.517915503\t0.668654775\t100\t214086661.000000000\t599\t729\t80.897377512\t137.000000000\t1.304101002\t0.766811772\t0.969970860\n",
      "35\tgwlmabrp875gwlv1_w3Hoechst.TIF\t10885\t9676.490950850\t10029\t3502\t15714\t518.792145154\t823.963573725\t402.190908859\t443\t778\t147\t91\t149.222634632\t92.876073919\t8.868175424\t0.845617181\t150.233152134\t105328604.000000000\t9861\t-0.643284198\t1.155805520\t100\t105328604.000000000\t443\t837\t11.908300061\t91.000000000\t1.606685429\t0.622399371\t0.973918490\n",
      "36\tgwlmabrp875gwlv1_w3Hoechst.TIF\t12925\t8676.212379110\t8308\t3562\t12334\t722.800657640\t838.257059961\t454.374675043\t638\t783\t166\t106\t173.716821308\t94.732455912\t19.343527907\t0.786705489\t176.173210222\t112140045.000000000\t8857\t-1.111109412\t1.933834814\t100\t112140045.000000000\t638\t868\t19.566316254\t98.663062997\t1.833762459\t0.545326902\t0.966427396\n",
      "Done!\n",
      "37\tgwlmabrp875gwlv3_w3Hoechst.TIF\t10398\t10342.559434507\t10728\t4055\t19305\t728.833718023\t301.035006732\t392.818325857\t678\t233\t101\t137\t139.216028237\t95.097848673\t67.148480088\t0.846790927\t143.293405291\t107541933.000000000\t10461\t-0.463297773\t1.335953451\t100\t107541933.000000000\t710\t370\t72.956066064\t99.924677515\t1.463924055\t0.683095545\t0.966671315\n",
      "38\tgwlmabrp875gwlv3_w3Hoechst.TIF\t15921\t9464.988694178\t9572\t4068\t16465\t304.131430187\t344.498429747\t491.972654790\t243\t258\t122\t172\t178.432432349\t113.607411639\t69.319061169\t0.826605476\t182.833257369\t150692085.000000000\t9577\t-0.137254663\t0.186823614\t100\t150692085.000000000\t271\t430\t70.177535430\t116.722748425\t1.570605560\t0.636697097\t0.973701914\n",
      "39\tgwlmabrp875gwlv3_w3Hoechst.TIF\t19520\t9389.369928279\t9791\t3874\t17972\t595.173206967\t443.066393443\t547.286363289\t523\t353\t147\t182\t194.840094660\t127.559145137\t64.197513012\t0.818955725\t193.002590656\t183280501.000000000\t9517\t-0.213052161\t1.077991148\t100\t183280501.000000000\t539\t519\t53.426969021\t128.491066220\t1.527449047\t0.654686323\t0.959025253\n",
      "40\tgwlmabrp875gwlv3_w3Hoechst.TIF\t12814\t9337.568596847\t9412\t3939\t17627\t863.486655221\t483.744342126\t442.901586978\t798\t413\t131\t142\t161.882070155\t100.785043770\t53.652691295\t0.820880825\t161.987653851\t119651604.000000000\t9437\t-0.239970158\t1.553577481\t100\t119651604.000000000\t819\t554\t57.094757077\t103.847059490\t1.606211240\t0.622583117\t0.961362443\n",
      "41\tgwlmabrp875gwlv3_w3Hoechst.TIF\t160\t7336.468750000\t5233\t4503\t12584\t512.318750000\t474.443750000\t47.455844123\t503\t468\t17\t12\t17.288119780\t11.783717938\t20.167733745\t0.892792310\t18.384776311\t1173835.000000000\t6507\t0.691471999\t-0.902546745\t100\t1173835.000000000\t503\t478\t22.380135052\t12.000000000\t1.467119280\t0.681607838\t0.941176471\n",
      "42\tgwlmabrp875gwlv3_w3Hoechst.TIF\t14166\t9104.567273754\t8333\t3835\t14322\t495.128688409\t657.347381053\t448.759451354\t428\t588\t132\t141\t140.472571538\t128.400236383\t117.680109834\t0.883954446\t143.961800489\t128975300.000000000\t9102\t-0.399748227\t0.792490885\t100\t128975300.000000000\t455\t598\t122.806965524\t130.139156290\t1.094021129\t0.914059129\t0.966797475\n",
      "43\tgwlmabrp875gwlv3_w3Hoechst.TIF\t13293\t8683.523282931\t9079\t3623\t13376\t771.799706613\t680.663243813\t462.658946291\t688\t618\t161\t121\t174.790068152\t96.831435831\t26.075394807\t0.780388642\t174.862803363\t115430075.000000000\t8792\t-0.675704385\t1.273110401\t100\t115430075.000000000\t693\t718\t26.858121662\t96.598136628\t1.805096317\t0.553987059\t0.959679457\n",
      "44\tgwlmabrp875gwlv3_w3Hoechst.TIF\t12233\t9045.244012098\t9084\t3768\t13395\t301.179718793\t744.390133246\t422.818325857\t248\t673\t107\t146\t152.956860363\t101.829622508\t68.383313768\t0.859874827\t159.012578119\t110650470.000000000\t9171\t-1.022681398\t1.734251296\t100\t110650470.000000000\t270\t819\t66.659471429\t107.000000000\t1.502086098\t0.665740800\t0.974430460\n",
      "45\tgwlmabrp875gwlv3_w3Hoechst.TIF\t13763\t8061.994913900\t8243\t3516\t13502\t747.520417060\t858.061868779\t486.475180106\t658\t808\t181\t96\t185.344318718\t94.546172094\t2.507158444\t0.730805149\t183.308483164\t110957236.000000000\t8127\t-0.130099612\t0.072564080\t100\t110957236.000000000\t658\t878\t9.102622488\t96.000000000\t1.960357724\t0.510110980\t0.948910645\n",
      "46\tgwlmabrp875gwlv3_w3Hoechst.TIF\t14628\t7305.037667487\t7182\t3652\t11152\t290.974295871\t945.457615532\t469.587878479\t218\t882\t152\t127\t164.553396649\t113.184828996\t152.528730296\t0.833606438\t168.324092156\t106858091.000000000\t7328\t-0.085829198\t0.711240406\t100\t106858091.000000000\t218\t900\t150.846211154\t114.486680448\t1.453846758\t0.687830402\t0.970766831\n",
      "47\tgwlmabrp875gwlv3_w3Hoechst.TIF\t13306\t7855.454456636\t8249\t3415\t11898\t742.693070795\t959.903427025\t436.333044483\t668\t907\t151\t107\t155.952029486\t108.634209110\t9.060344705\t0.878256099\t157.280005086\t104524677.000000000\t7920\t-0.400681959\t1.373216494\t100\t104524677.000000000\t668\t983\t16.245633045\t107.000000000\t1.435570165\t0.696587338\t0.979426595\n",
      "Done!\n",
      "48\tgwlmabrp875gwlv4_w3Hoechst.TIF\t14672\t6642.562295529\t6988\t3312\t9882\t887.110414395\t164.832197383\t467.747258045\t827\t88\t122\t152\t155.755837414\t119.937531142\t73.785031580\t0.842707156\t160.975153362\t97459674.000000000\t6778\t-0.524984130\t0.038334020\t100\t97459674.000000000\t864\t240\t70.777143172\t122.000000000\t1.298641350\t0.770035545\t0.967746191\n",
      "49\tgwlmabrp875gwlv4_w3Hoechst.TIF\t14244\t10952.028994664\t11624\t3667\t16992\t479.531662454\t257.581508003\t471.386868352\t398\t193\t162\t127\t172.242322369\t105.293657365\t29.429076689\t0.805539552\t173.948268172\t156000701.000000000\t11452\t-0.921405653\t0.526038365\t100\t156000701.000000000\t403\t298\t32.319616508\t108.225690111\t1.635828090\t0.611311180\t0.962367408\n",
      "50\tgwlmabrp875gwlv4_w3Hoechst.TIF\t14244\t9005.157610222\t7444\t3628\t15254\t223.985256950\t345.982729570\t471.386868352\t158\t268\t132\t157\t180.679016944\t100.377035374\t56.160346757\t0.805539552\t182.477395860\t128269465.000000000\t8973\t-0.097174733\t-0.435827184\t100\t128269465.000000000\t180\t425\t59.359336544\t103.753554156\t1.800003519\t0.555554469\t0.969738231\n",
      "51\tgwlmabrp875gwlv4_w3Hoechst.TIF\t14806\t7331.482507092\t7162\t3296\t11980\t709.205997569\t580.537822504\t489.788888605\t657\t488\t103\t187\t185.492734302\t101.629774181\t91.618918875\t0.775585627\t189.084637134\t108549930.000000000\t7330\t-0.143793767\t0.423854987\t100\t108549930.000000000\t694\t488\t98.515782404\t103.000000000\t1.825181014\t0.547890862\t0.966669931\n",
      "52\tgwlmabrp875gwlv4_w3Hoechst.TIF\t12892\t7988.691358982\t7404\t3426\t12985\t409.719205709\t555.157927397\t448.416305603\t338\t493\t147\t127\t157.465495115\t104.242546589\t34.703495276\t0.805688877\t160.181147455\t102990209.000000000\t8032\t-0.224912278\t-0.555654685\t100\t102990209.000000000\t343\t598\t31.209133103\t106.773123959\t1.510568384\t0.662002469\t0.960190668\n",
      "53\tgwlmabrp875gwlv4_w3Hoechst.TIF\t14331\t9233.725490196\t9093\t3351\t15576\t814.463017235\t607.750157002\t484.433549546\t767\t518\t98\t182\t188.108635055\t97.001373224\t87.211373147\t0.767393179\t184.967564724\t132328520.000000000\t9512\t-0.284076612\t-0.523923300\t100\t132328520.000000000\t800\t700\t79.722859419\t98.000000000\t1.939236825\t0.515666775\t0.963493344\n",
      "54\tgwlmabrp875gwlv4_w3Hoechst.TIF\t39\t5200.179487179\t4023\t4023\t6255\t336.397435897\t591.217948718\t22.142135624\t333\t588\t7\t7\t7.144216120\t6.950565522\t163.334387000\t0.999621200\t8.062257748\t202807.000000000\t5204\t-0.080215907\t-0.741907168\t100\t202807.000000000\t333\t589\t150.255118703\t7.000000000\t1.027861128\t0.972894073\t0.906976744\n",
      "55\tgwlmabrp875gwlv4_w3Hoechst.TIF\t12422\t7740.478264370\t8308\t3143\t12510\t376.766623732\t770.967718564\t451.462986798\t293\t727\t167\t93\t169.469406252\t93.327651134\t3.769175862\t0.765873580\t169.331036730\t96152221.000000000\t7963\t-0.544901932\t0.215606141\t100\t96152221.000000000\t293\t783\t9.517949161\t93.000000000\t1.815854189\t0.550705010\t0.966692607\n",
      "56\tgwlmabrp875gwlv4_w3Hoechst.TIF\t13979\t9695.950711782\t9742\t3161\t16862\t601.685063309\t860.612311324\t499.788888605\t503\t807\t192\t103\t204.110626683\t87.200827733\t16.059378691\t0.703254914\t200.569190057\t135539695.000000000\t9740\t-0.093590040\t-0.578718329\t100\t135539695.000000000\t503\t893\t16.808691626\t88.227546719\t2.340695977\t0.427223360\t0.967773201\n",
      "Done!\n",
      "57\tgwlmabrp875gwlv_w3Hoechst.TIF\t9611\t11093.870877120\t10989\t4140\t19106\t954.668973052\t149.629226927\t383.646752982\t897\t93\t117\t117\t141.952084958\t86.205886078\t46.818068569\t0.820569532\t146.102703603\t106623193.000000000\t11140\t-0.315783105\t0.007143894\t100\t106623193.000000000\t909\t205\t49.441241189\t85.559920524\t1.646663487\t0.607288622\t0.966318118\n",
      "58\tgwlmabrp875gwlv_w3Hoechst.TIF\t8596\t13670.818403909\t14671\t4507\t22886\t530.349348534\t251.495579339\t384.818325857\t478\t193\t112\t122\t146.031510806\t74.947982570\t50.205389939\t0.729448741\t147.871565894\t117514355.000000000\t14635\t-0.617799917\t-0.360079364\t100\t117514355.000000000\t488\t314\t54.912751447\t74.953318806\t1.948438181\t0.513231577\t0.955270323\n",
      "59\tgwlmabrp875gwlv_w3Hoechst.TIF\t12568\t11389.361314449\t12363\t4434\t18094\t221.387412476\t368.422581158\t447.244732728\t143\t308\t157\t117\t166.460809711\t96.131183226\t25.427594737\t0.789560779\t166.517266372\t143141493.000000000\t11610\t-0.629682340\t0.158739000\t100\t143141493.000000000\t143\t398\t24.102234501\t99.281418201\t1.731600550\t0.577500394\t0.956396012\n",
      "60\tgwlmabrp875gwlv_w3Hoechst.TIF\t12038\t14267.191892341\t13332\t4525\t24769\t711.215068948\t453.559229108\t460.291413922\t667\t368\t88\t177\t174.512815187\t87.828837230\t91.436571514\t0.714000400\t177.476759042\t171748456.000000000\t14733\t-0.404821855\t-0.487889731\t100\t171748456.000000000\t704\t368\t94.200622205\t88.000000000\t1.986964882\t0.503280158\t0.957296223\n",
      "61\tgwlmabrp875gwlv_w3Hoechst.TIF\t11174\t11525.722749239\t11157\t4211\t18651\t202.425988903\t552.358600322\t421.261976671\t138\t493\t132\t117\t151.727986268\t93.767662927\t39.482496312\t0.791250520\t157.114607850\t128788426.000000000\t11781\t-0.670424443\t0.679518572\t100\t128788426.000000000\t138\t598\t39.058480206\t96.166522241\t1.618126991\t0.617998467\t0.965064559\n",
      "62\tgwlmabrp875gwlv_w3Hoechst.TIF\t13704\t9706.613835377\t9488\t4067\t15330\t318.345373614\t713.922650321\t469.788888605\t263\t627\t107\t173\t177.986063444\t98.032814387\t73.992850831\t0.780282259\t179.011172836\t133019436.000000000\t9900\t-0.571857404\t0.496248843\t100\t133019436.000000000\t296\t800\t75.109817633\t100.763325205\t1.815576392\t0.550789272\t0.966022839\n",
      "63\tgwlmabrp875gwlv_w3Hoechst.TIF\t12128\t10210.935191293\t10609\t3872\t19012\t603.327176781\t744.082041557\t455.060966544\t518\t692\t162\t108\t172.698944970\t89.414843856\t156.983015218\t0.735969611\t173.818871242\t123838222.000000000\t10497\t-0.455557886\t0.778185109\t100\t123838222.000000000\t518\t719\t158.749494493\t91.698732457\t1.931434844\t0.517749798\t0.957940050\n",
      "Done!\n"
     ]
    },
    {
     "data": {
      "text/plain": [
       "[/home/jovyan/notebooks/volker/tmp/gwlmabrp875gwlv5_w3Hoechst.TIF, /home/jovyan/notebooks/volker/tmp/gwlmabrp875gwlv2_w3Hoechst.TIF, /home/jovyan/notebooks/volker/tmp/gwlmabrp875gwlv1_w3Hoechst.TIF, /home/jovyan/notebooks/volker/tmp/gwlmabrp875gwlv3_w3Hoechst.TIF, /home/jovyan/notebooks/volker/tmp/gwlmabrp875gwlv4_w3Hoechst.TIF, /home/jovyan/notebooks/volker/tmp/gwlmabrp875gwlv_w3Hoechst.TIF]"
      ]
     },
     "execution_count": 18,
     "metadata": {},
     "output_type": "execute_result"
    }
   ],
   "source": [
    "import ij.IJ\n",
    "import static groovy.io.FileType.FILES\n",
    "scaleFactor = 5\n",
    "\n",
    "macro = new File('/home/jovyan/notebooks/volker/tmp/macro.ijm').text\n",
    "\n",
    "def dir = new File(\"/home/jovyan/notebooks/volker/tmp\");\n",
    "def files = [];\n",
    "dir.traverse(type: FILES, maxDepth: 0) { if (it.getName().contains(\".TIF\")) files.add(it) };\n",
    "IJ.runMacro('run(\"Clear Results\");', \"\")\n",
    "files.each {\n",
    "    file = it\n",
    "    args = \"input=\"+file.getPath()+\", scale_factor=\"+scaleFactor\n",
    "    answer = IJ.runMacro(macro, args)\n",
    "}"
   ]
  },
  {
   "cell_type": "markdown",
   "metadata": {},
   "source": [
    "We read in and display the newly created csv-file.\n",
    "\n",
    "* You can change the number of rows that are displayed."
   ]
  },
  {
   "cell_type": "code",
   "execution_count": 19,
   "metadata": {},
   "outputs": [
    {
     "data": {
      "application/vnd.jupyter.widget-view+json": {
       "model_id": "7509bf92-02e1-40ea-b3fa-cc399f672a5b",
       "version_major": 2,
       "version_minor": 0
      },
      "method": "display_data"
     },
     "metadata": {},
     "output_type": "display_data"
    }
   ],
   "source": [
    "csv = new CSV().read(\"/home/jovyan/notebooks/volker/tmp/out/results.csv\")"
   ]
  },
  {
   "cell_type": "markdown",
   "metadata": {},
   "source": [
    "## Creating histograms and plots"
   ]
  },
  {
   "cell_type": "markdown",
   "metadata": {},
   "source": [
    "We get the values from the ``area``-column and display a hisogram of the areas.\n",
    "\n",
    "* The histogram and plots are done by BeakerX. \n",
    "* As the table they are interactive.\n",
    "* It is possible to:\n",
    " * resize the plot\n",
    " * pan - left-click and drag\n",
    " * zoom in and out - right-click and drag (box-zoom) or use the mouse-wheel\n",
    " * reset the zoom - double-click\n",
    " * pin the values at a point to the plot - left click\n",
    "* You can export a plot as an image"
   ]
  },
  {
   "cell_type": "code",
   "execution_count": 20,
   "metadata": {},
   "outputs": [
    {
     "data": {
      "application/vnd.jupyter.widget-view+json": {
       "model_id": "19055063-0bc2-4b74-9151-7bde4eb341c9",
       "version_major": 2,
       "version_minor": 0
      },
      "method": "display_data"
     },
     "metadata": {},
     "output_type": "display_data"
    }
   ],
   "source": [
    "areas = csv[\"Area\"]\n",
    "new Histogram(data: areas, binCount: 10);"
   ]
  },
  {
   "cell_type": "markdown",
   "metadata": {},
   "source": [
    "We create a scatterplot of area vs mean-intensity and area vs max-intensity. \n",
    "\n",
    "* You can select and unselect which data is displayed.\n",
    "* Display different pairs of data in the scatterplot."
   ]
  },
  {
   "cell_type": "code",
   "execution_count": 30,
   "metadata": {},
   "outputs": [
    {
     "data": {
      "application/vnd.jupyter.widget-view+json": {
       "model_id": "ecf0f479-1b75-4761-8b39-a1e716700b5b",
       "version_major": 2,
       "version_minor": 0
      },
      "method": "display_data"
     },
     "metadata": {},
     "output_type": "display_data"
    }
   ],
   "source": [
    "new Plot() << new Points(x: csv['Area'], y: csv['Mean'], displayName: \"area vs mean\") \\\n",
    "           << new Points(x: csv['Area'], y: csv['Max'], displayName: \"area vs max\") "
   ]
  },
  {
   "cell_type": "markdown",
   "metadata": {},
   "source": [
    "# More..."
   ]
  },
  {
   "cell_type": "markdown",
   "metadata": {},
   "source": [
    "There is much more in BeakerX:\n",
    "* initialization cells that are automatically executed when the notebook is loaded\n",
    "* automatic timing of the cell execution\n",
    "* display the progress while a cell is executed\n",
    "* execute other cells from a cell\n",
    "* EasyForm widgets\n",
    "* TableSaw - descriptive statistics, k-means-clustering, ... on tables\n",
    "* Smile - machine learning\n",
    "* DataVec - Deep learning\n",
    "* more types of plots\n",
    "\n",
    "Check out the documentation:\n",
    "* [beakerx](http://beakerx.com/)\n",
    "* [beakerx notebooks](https://nbviewer.jupyter.org/github/twosigma/beakerx/blob/master/StartHere.ipynb)"
   ]
  },
  {
   "cell_type": "markdown",
   "metadata": {},
   "source": [
    "# The end"
   ]
  },
  {
   "cell_type": "markdown",
   "metadata": {},
   "source": [
    "or almost...\n",
    "* homework: \n",
    " * upload the csv-file as an attachment to the dataset in OMERO"
   ]
  },
  {
   "cell_type": "code",
   "execution_count": null,
   "metadata": {},
   "outputs": [],
   "source": [
    "%%python\n",
    "conn.close()"
   ]
  }
 ],
 "metadata": {
  "celltoolbar": "Slideshow",
  "kernelspec": {
   "display_name": "Groovy",
   "language": "groovy",
   "name": "groovy"
  },
  "language_info": {
   "codemirror_mode": "groovy",
   "file_extension": ".groovy",
   "mimetype": "",
   "name": "Groovy",
   "nbconverter_exporter": "",
   "version": "2.5.6"
  },
  "toc": {
   "base_numbering": 1,
   "nav_menu": {},
   "number_sections": false,
   "sideBar": false,
   "skip_h1_title": false,
   "title_cell": "Table of Contents",
   "title_sidebar": "Contents",
   "toc_cell": false,
   "toc_position": {},
   "toc_section_display": false,
   "toc_window_display": false
  }
 },
 "nbformat": 4,
 "nbformat_minor": 4
}
