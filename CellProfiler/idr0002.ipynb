{
 "cells": [
  {
   "cell_type": "markdown",
   "metadata": {},
   "source": [
    "# Cell/particle Counting and scoring stained objects"
   ]
  },
  {
   "cell_type": "markdown",
   "metadata": {},
   "source": [
    "This notebook demonstrates how to process plates associated to the paper ['Integration of biological data by kernels on graph nodes allows prediction of new genes involved in mitotic chromosome condensation.'](http://dx.doi.org/10.1091/mbc.E13-04-0221).\n",
    "We use the [Cell/particle counting, and scoring the percentage of stained objects](http://cellprofiler.org/examples/#PercentPositive) pipeline."
   ]
  },
  {
   "cell_type": "markdown",
   "metadata": {},
   "source": [
    "### Import Packages"
   ]
  },
  {
   "cell_type": "code",
   "execution_count": null,
   "metadata": {},
   "outputs": [],
   "source": [
    "# %tb\n",
    "\n",
    "# Import Cell Profiler Dependencies\n",
    "import cellprofiler\n",
    "import cellprofiler.preferences as cpprefs\n",
    "import cellprofiler.module as cpm\n",
    "import cellprofiler.pipeline as cpp\n",
    "cpprefs.set_headless()\n",
    "\n",
    "# Inject Image module used to inject OMERO image planes into Cell Profiler Pipeline\n",
    "from cellprofiler.modules.injectimage import InjectImage\n",
    "\n",
    "# Import OMERO Python BlitzGateway\n",
    "import omero\n",
    "from omero.gateway import BlitzGateway\n",
    "\n",
    "# Import Numpy\n",
    "import numpy as np\n",
    "\n",
    "# Import Python System Packages\n",
    "import os\n",
    "import tempfile\n",
    "import pandas\n",
    "import warnings"
   ]
  },
  {
   "cell_type": "markdown",
   "metadata": {},
   "source": [
    "### Set Cell Output Directory"
   ]
  },
  {
   "cell_type": "code",
   "execution_count": null,
   "metadata": {},
   "outputs": [],
   "source": [
    "new_output_directory = os.path.normcase(tempfile.mkdtemp())\n",
    "cpprefs.set_default_output_directory(new_output_directory)"
   ]
  },
  {
   "cell_type": "markdown",
   "metadata": {},
   "source": [
    "### OMERO Credentials"
   ]
  },
  {
   "cell_type": "code",
   "execution_count": null,
   "metadata": {},
   "outputs": [],
   "source": [
    "HOST = 'outreach.openmicroscopy.org'\n",
    "# To be modified\n",
    "USERNAME = 'username'\n",
    "PASSWORD = 'password'\n",
    "PORT = 4064\n",
    "client = omero.client(host=HOST, port=PORT)\n",
    "client.createSession(USERNAME, PASSWORD)\n",
    "conn = BlitzGateway(client_obj=client)"
   ]
  },
  {
   "cell_type": "markdown",
   "metadata": {},
   "source": [
    "### Fetch OMERO Plate that contains the Images to be analysed"
   ]
  },
  {
   "cell_type": "code",
   "execution_count": null,
   "metadata": {},
   "outputs": [],
   "source": [
    "# To be modified\n",
    "plate_id = 422\n",
    "plate = conn.getObject(\"Plate\", plate_id)\n",
    "print 'Plate Name: ', plate.getName()"
   ]
  },
  {
   "cell_type": "code",
   "execution_count": null,
   "metadata": {},
   "outputs": [],
   "source": [
    "from os.path import expanduser\n",
    "home = expanduser(\"~\")\n",
    "pipeline = cpp.Pipeline()\n",
    "pipeline.load(home+\"/notebooks/CellProfiler/pipelines/ExamplePercentPositive.cppipe\")\n",
    "for module in pipeline.modules():\n",
    "    print  module.module_name"
   ]
  },
  {
   "cell_type": "markdown",
   "metadata": {},
   "source": [
    "### Run Cell Profiler Pipeline on a plate"
   ]
  },
  {
   "cell_type": "code",
   "execution_count": null,
   "metadata": {},
   "outputs": [],
   "source": [
    "warnings.filterwarnings('ignore')\n",
    "\n",
    "Nuclei = pandas.DataFrame()\n",
    "Image = pandas.DataFrame()\n",
    "\n",
    "for well in plate.listChildren():\n",
    "    \n",
    "    index = well.countWellSample()\n",
    "    for index in xrange(0, index):\n",
    "        image = well.getImage(index)\n",
    "        pixels = image.getPrimaryPixels()\n",
    "        size_c = image.getSizeC()\n",
    "        pipeline_copy = pipeline.copy()\n",
    "        for c in range(0, size_c):\n",
    "        \n",
    "            plane = pixels.getPlane(0, c, 0)\n",
    "            image_name = image.getName()\n",
    "            \n",
    "            if c == 0:\n",
    "                image_name = 'OrigBlue'\n",
    "            if c == 1:\n",
    "                image_name = 'OrigGreen'\n",
    "            if c == 2:\n",
    "                image_name = 'OrigRed'\n",
    "            \n",
    "            inject_image_module = InjectImage(image_name, plane)\n",
    "            inject_image_module.set_module_num(1)\n",
    "            pipeline_copy.add_module(inject_image_module)\n",
    "            \n",
    "        for i in [1, 2, 3, 4]:\n",
    "            pipeline_copy.remove_module(pipeline_copy.modules()[size_c].module_num)\n",
    "        \n",
    "        m = pipeline_copy.run()\n",
    "        \n",
    "        nuc_csv = pandas.read_csv(new_output_directory + '/Nuclei.csv')\n",
    "        nuc_csv.ImageNumber = image.getName()\n",
    "        Nuclei = Nuclei.append(nuc_csv)\n",
    "        \n",
    "        image_csv = pandas.read_csv(new_output_directory + '/Image.csv')\n",
    "        image_csv.ImageNumber = image.getName()\n",
    "        Image = Image.append(image_csv)\n",
    "        \n",
    "    for module in pipeline_copy.modules():\n",
    "        print  module.module_name"
   ]
  },
  {
   "cell_type": "markdown",
   "metadata": {},
   "source": [
    "## Results obtained as CSV from Cell Profiler"
   ]
  },
  {
   "cell_type": "markdown",
   "metadata": {},
   "source": [
    "### Measurements (Nuclei)"
   ]
  },
  {
   "cell_type": "code",
   "execution_count": null,
   "metadata": {},
   "outputs": [],
   "source": [
    "Nuclei.head()"
   ]
  },
  {
   "cell_type": "markdown",
   "metadata": {},
   "source": [
    "### Images (Summary)"
   ]
  },
  {
   "cell_type": "code",
   "execution_count": null,
   "metadata": {},
   "outputs": [],
   "source": [
    "Image.head()"
   ]
  },
  {
   "cell_type": "markdown",
   "metadata": {},
   "source": [
    "### Push Results back to OMERO"
   ]
  },
  {
   "cell_type": "code",
   "execution_count": null,
   "metadata": {},
   "outputs": [],
   "source": [
    "import glob\n",
    "\n",
    "for file_to_upload in glob.glob(new_output_directory + '/*.csv'):\n",
    "    \n",
    "    if file_to_upload.endswith('Nuclei.csv'):\n",
    "        Nuclei.to_csv(file_to_upload)\n",
    "    elif file_to_upload.endswith('Image.csv'):\n",
    "        Image.to_csv(file_to_upload)\n",
    "    \n",
    "    # create the original file and file annotation (uploads the file etc.)\n",
    "    namespace = \"training.meeting.demo\"\n",
    "    print \"\\nCreating an OriginalFile and FileAnnotation\"\n",
    "    file_ann = conn.createFileAnnfromLocalFile(file_to_upload, mimetype=\"text/plain\", ns=namespace, desc=None)\n",
    "    print \"Attaching FileAnnotation to Plate: \", \"File ID:\", file_ann.getId(), \\\n",
    "        \",\", file_ann.getFile().getName(), \"Size:\", file_ann.getFile().getSize()\n",
    "    dataset.linkAnnotation(file_ann)"
   ]
  },
  {
   "cell_type": "markdown",
   "metadata": {},
   "source": [
    "<br>\n",
    "#### Close the connection to the OMERO server"
   ]
  },
  {
   "cell_type": "code",
   "execution_count": null,
   "metadata": {},
   "outputs": [],
   "source": [
    "conn.close()"
   ]
  }
 ],
 "metadata": {
  "kernelspec": {
   "display_name": "OMERO Python 2",
   "language": "python",
   "name": "python2"
  },
  "language_info": {
   "codemirror_mode": {
    "name": "ipython",
    "version": 2
   },
   "file_extension": ".py",
   "mimetype": "text/x-python",
   "name": "python",
   "nbconvert_exporter": "python",
   "pygments_lexer": "ipython2",
   "version": "2.7.14"
  }
 },
 "nbformat": 4,
 "nbformat_minor": 2
}
