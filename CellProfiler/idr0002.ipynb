{
 "cells": [
  {
   "cell_type": "markdown",
   "metadata": {},
   "source": [
    "# Cell/particle Counting and scoring stained objects"
   ]
  },
  {
   "cell_type": "markdown",
   "metadata": {},
   "source": [
    "This notebook demonstrates how to process plates associated to the paper ['Integration of biological data by kernels on graph nodes allows prediction of new genes involved in mitotic chromosome condensation.'](http://dx.doi.org/10.1091/mbc.E13-04-0221).\n",
    "We use the [Cell/particle counting, and scoring the percentage of stained objects](http://cellprofiler.org/examples/#PercentPositive) pipeline.\n",
    "We explore the features with [Principal Component Analysis](https://en.wikipedia.org/wiki/Principal_component_analysis)."
   ]
  },
  {
   "cell_type": "markdown",
   "metadata": {},
   "source": [
    "### Import Packages"
   ]
  },
  {
   "cell_type": "code",
   "execution_count": null,
   "metadata": {},
   "outputs": [],
   "source": [
    "# %tb\n",
    "\n",
    "# Import Cell Profiler Dependencies\n",
    "import cellprofiler\n",
    "import cellprofiler.preferences as cpprefs\n",
    "import cellprofiler.module as cpm\n",
    "import cellprofiler.pipeline as cpp\n",
    "cpprefs.set_headless()\n",
    "\n",
    "# Inject Image module used to inject OMERO image planes into Cell Profiler Pipeline\n",
    "from cellprofiler.modules.injectimage import InjectImage\n",
    "\n",
    "# Import OMERO Python BlitzGateway\n",
    "import omero\n",
    "from omero.gateway import BlitzGateway\n",
    "\n",
    "# Import Numpy\n",
    "import numpy as np\n",
    "\n",
    "# Import Python System Packages\n",
    "import os\n",
    "import tempfile\n",
    "import pandas\n",
    "import warnings\n",
    "\n",
    "# Import Matplotlib\n",
    "import matplotlib\n",
    "import matplotlib.pyplot as plt"
   ]
  },
  {
   "cell_type": "markdown",
   "metadata": {},
   "source": [
    "### Set Cell Output Directory"
   ]
  },
  {
   "cell_type": "code",
   "execution_count": null,
   "metadata": {},
   "outputs": [],
   "source": [
    "new_output_directory = os.path.normcase(tempfile.mkdtemp())\n",
    "cpprefs.set_default_output_directory(new_output_directory)"
   ]
  },
  {
   "cell_type": "markdown",
   "metadata": {},
   "source": [
    "### OMERO Credentials"
   ]
  },
  {
   "cell_type": "code",
   "execution_count": null,
   "metadata": {},
   "outputs": [],
   "source": [
    "HOST = 'outreach.openmicroscopy.org'\n",
    "# To be modified\n",
    "USERNAME = 'username'\n",
    "PASSWORD = 'password'\n",
    "PORT = 4064\n",
    "client = omero.client(host=HOST, port=PORT)\n",
    "client.createSession(USERNAME, PASSWORD)\n",
    "conn = BlitzGateway(client_obj=client)"
   ]
  },
  {
   "cell_type": "markdown",
   "metadata": {},
   "source": [
    "### Fetch OMERO Plate that contains the Images to be analysed"
   ]
  },
  {
   "cell_type": "code",
   "execution_count": null,
   "metadata": {},
   "outputs": [],
   "source": [
    "# To be modified\n",
    "plate_id = 422\n",
    "plate = conn.getObject(\"Plate\", plate_id)\n",
    "print 'Plate Name: ', plate.getName()"
   ]
  },
  {
   "cell_type": "code",
   "execution_count": null,
   "metadata": {},
   "outputs": [],
   "source": [
    "from os.path import expanduser\n",
    "home = expanduser(\"~\")\n",
    "pipeline = cpp.Pipeline()\n",
    "pipeline.load(home+\"/notebooks/CellProfiler/pipelines/ExamplePercentPositive.cppipe\")\n",
    "for module in pipeline.modules():\n",
    "    print  module.module_name"
   ]
  },
  {
   "cell_type": "markdown",
   "metadata": {},
   "source": [
    "### Run Cell Profiler Pipeline on a plate"
   ]
  },
  {
   "cell_type": "code",
   "execution_count": null,
   "metadata": {},
   "outputs": [],
   "source": [
    "warnings.filterwarnings('ignore')\n",
    "\n",
    "Nuclei = pandas.DataFrame()\n",
    "Image = pandas.DataFrame()\n",
    "image_ids = []\n",
    "well_ids = []\n",
    "files = []\n",
    "\n",
    "for well in plate.listChildren():\n",
    "    \n",
    "    index = well.countWellSample()\n",
    "    well_ids.append(well.getId())\n",
    "    for index in xrange(0, index):\n",
    "        image = well.getImage(index))\n",
    "        image_ids.append(image.getId())\n",
    "        pixels = image.getPrimaryPixels()\n",
    "        size_c = image.getSizeC()\n",
    "        pipeline_copy = pipeline.copy()\n",
    "        for c in range(0, size_c):\n",
    "        \n",
    "            plane = pixels.getPlane(0, c, 0)\n",
    "            image_name = image.getName()\n",
    "            \n",
    "            if c == 0:\n",
    "                image_name = 'OrigBlue'\n",
    "            if c == 1:\n",
    "                image_name = 'OrigGreen'\n",
    "            if c == 2:\n",
    "                image_name = 'OrigRed'\n",
    "            \n",
    "            inject_image_module = InjectImage(image_name, plane)\n",
    "            inject_image_module.set_module_num(1)\n",
    "            pipeline_copy.add_module(inject_image_module)\n",
    "            \n",
    "        for i in [1, 2, 3, 4]:\n",
    "            pipeline_copy.remove_module(pipeline_copy.modules()[size_c].module_num)\n",
    "        \n",
    "        m = pipeline_copy.run()\n",
    "        \n",
    "        #Results obtained as CSV from Cell Profiler\n",
    "        path = new_output_directory + '/Nuclei.csv'\n",
    "        f = pandas.read_csv(path, index_col=None, header=0)\n",
    "        f.ImageNumber = image.getName()\n",
    "        files.append(f)\n",
    "\n",
    "Nuclei = pandas.concat(files, ignore_index=True)"
   ]
  },
  {
   "cell_type": "markdown",
   "metadata": {},
   "source": [
    "### Display the result from CellProfiler"
   ]
  },
  {
   "cell_type": "code",
   "execution_count": null,
   "metadata": {},
   "outputs": [],
   "source": [
    "from IPython.core.display import HTML\n",
    "display(HTML(Nuclei.to_html()))"
   ]
  },
  {
   "cell_type": "markdown",
   "metadata": {},
   "source": [
    "### Calculate statistics"
   ]
  },
  {
   "cell_type": "code",
   "execution_count": null,
   "metadata": {},
   "outputs": [],
   "source": [
    "Nuclei.describe()"
   ]
  },
  {
   "cell_type": "code",
   "execution_count": null,
   "metadata": {},
   "outputs": [],
   "source": [
    "matplotlib.rcParams['figure.figsize'] = (18.0, 16.0)\n",
    "Nuclei.hist();"
   ]
  },
  {
   "cell_type": "markdown",
   "metadata": {},
   "source": [
    "### Principal Component Analysis (PCA)"
   ]
  },
  {
   "cell_type": "code",
   "execution_count": null,
   "metadata": {},
   "outputs": [],
   "source": [
    "from sklearn.preprocessing import StandardScaler\n",
    "from sklearn.decomposition import PCA\n",
    "nb_columns = len(Nuclei.columns)-1\n",
    "data = Nuclei.iloc[:,1:nb_columns]\n",
    "std = StandardScaler().fit_transform(data)\n",
    "pca = PCA(n_components=nb_columns-1)\n",
    "x = pca.fit(std).transform(std)"
   ]
  },
  {
   "cell_type": "markdown",
   "metadata": {},
   "source": [
    "### Visualize PCA result"
   ]
  },
  {
   "cell_type": "markdown",
   "metadata": {},
   "source": [
    "#### Table List"
   ]
  },
  {
   "cell_type": "code",
   "execution_count": null,
   "metadata": {},
   "outputs": [],
   "source": [
    "column_names = list(Nuclei.columns.values)\n",
    "ylabels = column_names[1:nb_columns]\n",
    "xlabels = range(1, nb_columns)\n",
    "matplotlib.rcParams['figure.figsize'] = (12.0, 8.0)\n",
    "figure = plt.figure()\n",
    "\n",
    "axis = figure.add_subplot(1, 1, 1)\n",
    "image = axis.pcolor(pca.components_.transpose(), cmap=matplotlib.cm.seismic, edgecolors='k', linewidths=2)\n",
    "axis.xaxis.set(ticks=np.arange(0.5, len(xlabels)), ticklabels=xlabels)\n",
    "axis.yaxis.set(ticks=np.arange(0.5, len(ylabels)), ticklabels=ylabels)\n",
    "axis.set_ylim(axis.get_ylim()[::-1])\n",
    "axis.xaxis.tick_top()\n",
    "plt.colorbar(image);"
   ]
  },
  {
   "cell_type": "markdown",
   "metadata": {},
   "source": [
    "#### Explained variance ratio"
   ]
  },
  {
   "cell_type": "code",
   "execution_count": null,
   "metadata": {},
   "outputs": [],
   "source": [
    "figure = plt.figure()\n",
    "axis = figure.add_subplot(1, 1, 1)\n",
    "plt.plot(pca.explained_variance_ratio_, marker='o', linewidth=2)\n",
    "axis.xaxis.set(ticklabels=range(1, nb_columns))\n",
    "plt.xlabel('PCA component')\n",
    "plt.grid(True)\n",
    "plt.title('Explained variance ratio');"
   ]
  },
  {
   "cell_type": "markdown",
   "metadata": {},
   "source": [
    "### Save the ouput to OMERO as OMERO.table"
   ]
  },
  {
   "cell_type": "code",
   "execution_count": null,
   "metadata": {},
   "outputs": [],
   "source": [
    "from omero.grid import DoubleColumn, ImageColumn, LongColumn, WellColumn\n",
    "from omero.constants.namespaces import NSBULKANNOTATIONS\n",
    "\n",
    "img_column = ImageColumn('Image', '', image_ids)\n",
    "well_column = WellColumn('Well', '', well_ids)\n",
    "cols = []\n",
    "for col in Nuclei.columns:\n",
    "    if Nuclei[col].dtype == 'int64':\n",
    "        cols.append(LongColumn(col, '', Nuclei[col]))\n",
    "    elif Nuclei[col].dtype == 'float64':\n",
    "        cols.append(DoubleColumn(col, '', Nuclei[col])\n",
    "\n",
    "data = [well_column] + [img_column] + cols\n",
    "\n",
    "resources = conn.c.sf.sharedResources()\n",
    "repository_id = resources.repositories().descriptions[0].getId().getValue()\n",
    "table_name = \"idr0002_cellprofiler\"\n",
    "table = resources.newTable(repository_id, table_name)\n",
    "table.initialize(data)\n",
    "table.addData(data)\n",
    "table.close()\n",
    "\n",
    "# Link the table to the plate\n",
    "orig_file = table.getOriginalFile()\n",
    "file_ann = FileAnnotationWrapper(conn)\n",
    "file_ann.setNs(NSBULKANNOTATIONS)\n",
    "file_ann._obj.file = OriginalFileI(orig_file.id.val, False)\n",
    "file_ann.save()\n",
    "plate.linkAnnotation(file_ann)"
   ]
  },
  {
   "cell_type": "markdown",
   "metadata": {},
   "source": [
    "<br>\n",
    "### Close the connection to the OMERO server"
   ]
  },
  {
   "cell_type": "code",
   "execution_count": null,
   "metadata": {},
   "outputs": [],
   "source": [
    "conn.close()"
   ]
  }
 ],
 "metadata": {
  "kernelspec": {
   "display_name": "OMERO Python 2",
   "language": "python",
   "name": "python2"
  },
  "language_info": {
   "codemirror_mode": {
    "name": "ipython",
    "version": 2
   },
   "file_extension": ".py",
   "mimetype": "text/x-python",
   "name": "python",
   "nbconvert_exporter": "python",
   "pygments_lexer": "ipython2",
   "version": "2.7.14"
  }
 },
 "nbformat": 4,
 "nbformat_minor": 2
}
