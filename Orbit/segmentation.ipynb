{
 "cells": [
  {
   "cell_type": "markdown",
   "metadata": {},
   "source": [
    "# Analyze data using Orbit\n",
    "\n",
    "This notebook shows how to analyze images. A model has been generated and uploaded to the server."
   ]
  },
  {
   "cell_type": "code",
   "execution_count": 2,
   "metadata": {},
   "outputs": [],
   "source": [
    "%classpath add jar /opt/java-apps/orbit/lib/*"
   ]
  },
  {
   "cell_type": "code",
   "execution_count": 3,
   "metadata": {},
   "outputs": [
    {
     "data": {
      "application/vnd.jupyter.widget-view+json": {
       "model_id": "d06a5ee9-6dd9-4eff-a1a4-98cc46eae6ae",
       "version_major": 2,
       "version_minor": 0
      },
      "method": "display_data"
     },
     "metadata": {},
     "output_type": "display_data"
    }
   ],
   "source": [
    "g = new EasyForm(\"Enter credentials to connect to OMERO\")\n",
    "g.addTextField(\"Server\").onInit({g['Server'] = \"outreach.openmicroscopy.org\"})\n",
    "g.addTextField(\"UserName\")\n",
    "g.addPasswordField(\"Password\")\n",
    "g"
   ]
  },
  {
   "cell_type": "code",
   "execution_count": 4,
   "metadata": {},
   "outputs": [
    {
     "data": {
      "application/vnd.jupyter.widget-view+json": {
       "model_id": "12f1a9fa-96c7-4cb8-82d9-e30cce55cb66",
       "version_major": 2,
       "version_minor": 0
      },
      "method": "display_data"
     },
     "metadata": {},
     "output_type": "display_data"
    }
   ],
   "source": [
    "ga = new EasyForm(\"Select the Image to analyze\")\n",
    "ga.addTextField(\"ImageID\")\n",
    "ga"
   ]
  },
  {
   "cell_type": "code",
   "execution_count": null,
   "metadata": {},
   "outputs": [
    {
     "name": "stdout",
     "output_type": "stream",
     "text": [
      "Connected \n",
      "Found 1 files\n"
     ]
    }
   ],
   "source": [
    "import com.actelion.research.orbit.beans.RawDataFile\n",
    "import com.actelion.research.orbit.beans.RawAnnotation\n",
    "import com.actelion.research.orbit.imageAnalysis.dal.DALConfig\n",
    "import com.actelion.research.orbit.imageAnalysis.models.OrbitModel\n",
    "import com.actelion.research.orbit.imageAnalysis.models.SegmentationResult\n",
    "import com.actelion.research.orbit.imageAnalysis.utils.OrbitHelper\n",
    "\n",
    "import java.awt.Shape\n",
    "\n",
    "import com.actelion.research.orbit.imageAnalysis.components.*\n",
    "import com.actelion.research.orbit.imageAnalysis.models.*\n",
    "import com.actelion.research.orbit.imageprovider.ImageProviderOmero\n",
    "import com.actelion.research.orbit.imageprovider.OmeroConf\n",
    "import omero.gateway.model.*\n",
    "import omero.model.*\n",
    "import omero.gateway.Gateway\n",
    "import omero.gateway.SecurityContext\n",
    "import static omero.rtypes.rstring\n",
    "import static omero.rtypes.rint\n",
    "import omero.gateway.facility.BrowseFacility\n",
    "import omero.gateway.facility.DataManagerFacility\n",
    "\n",
    "// Edit these parameters\n",
    "String hostName = g['Server']\n",
    "String userName = g['UserName']\n",
    "String password = g['Password']\n",
    "\n",
    "// Get the OMERO Image ID\n",
    "long omeroImageId = ga['ImageID'].toLong()\n",
    "\n",
    "// Login to create a new connection with OMERO\n",
    "ImageProviderOmero imageProvider = new ImageProviderOmero(new OmeroConf(hostName,4064,true))\n",
    "\n",
    "imageProvider.authenticateUser(userName, password)\n",
    "println(\"Connected \")\n",
    "\n",
    "Gateway gateway = imageProvider.getGatewayAndCtx().getGateway()\n",
    "SecurityContext ctx = imageProvider.getGatewayAndCtx().getCtx()\n",
    "\n",
    "// Load Models that I own. OMERO annotations of type: Model\n",
    "imageProvider.setOnlyOwnerObjects(true)\n",
    "List<RawAnnotation> annotations = imageProvider.LoadRawAnnotationsByType(RawAnnotation.ANNOTATION_TYPE_MODEL)\n",
    "println(\"Found \" + annotations.size() + \" files\")\n",
    "// Use the first annotation\n",
    "int fileAnnId = annotations[0].getRawAnnotationId()\n",
    "OrbitModel model = OrbitModel.LoadFromOrbit(fileAnnId)\n",
    "println(\"Loaded Model: \" + model.getName())\n",
    "\n",
    "// Perform the segmentation\n",
    "SegmentationResult res = OrbitHelper.Segmentation(rdf.rawDataFileId, model, null, 1)\n",
    "\n",
    "// handle the segmented objects\n",
    "println(\"SegmentationResult: \" + res.shapeList.size() + \" shapes\")\n",
    "for (Shape shape: res.shapeList) {\n",
    "    // can cast shape to Polygon or simply listPoints\n",
    "    String points = shape.listPoints()\n",
    "\n",
    "    // Create Polygon in OMERO\n",
    "    p = new PolygonI()\n",
    "    // Convert \"x, y; x, y\" format to \"x, y, x, y\" for OMERO\n",
    "    points = points.replace(\";\", \",\")\n",
    "    p.setPoints(rstring(points))\n",
    "    p.setTheT(rint(0))\n",
    "    p.setTheZ(rint(0))\n",
    "    p.setStrokeColor(rint(-65281))   // yellow\n",
    "\n",
    "    // Add each shape to an ROI on the Image\n",
    "    ImageI image = new ImageI(omeroImageId, false)\n",
    "    RoiI roi = new RoiI()\n",
    "    roi.setImage(image)\n",
    "    roi.addShape(p)\n",
    "\n",
    "    // Save\n",
    "    gateway.getUpdateService(ctx).saveAndReturnObject(roi)\n",
    "}\n",
    "\n",
    "println(\"Close...\")\n",
    "imageProvider.close()\n"
   ]
  },
  {
   "cell_type": "code",
   "execution_count": null,
   "metadata": {},
   "outputs": [],
   "source": []
  }
 ],
 "metadata": {
  "kernelspec": {
   "display_name": "Groovy",
   "language": "groovy",
   "name": "groovy"
  },
  "language_info": {
   "codemirror_mode": "groovy",
   "file_extension": ".groovy",
   "mimetype": "",
   "name": "Groovy",
   "nbconverter_exporter": "",
   "version": "2.5.6"
  },
  "toc": {
   "base_numbering": 1,
   "nav_menu": {},
   "number_sections": false,
   "sideBar": false,
   "skip_h1_title": false,
   "title_cell": "Table of Contents",
   "title_sidebar": "Contents",
   "toc_cell": false,
   "toc_position": {},
   "toc_section_display": false,
   "toc_window_display": false
  }
 },
 "nbformat": 4,
 "nbformat_minor": 2
}
